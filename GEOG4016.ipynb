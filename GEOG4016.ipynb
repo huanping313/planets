{
  "nbformat": 4,
  "nbformat_minor": 0,
  "metadata": {
    "colab": {
      "provenance": [],
      "authorship_tag": "ABX9TyO6C4DJwRJAxUXbHUlSyHly",
      "include_colab_link": true
    },
    "kernelspec": {
      "name": "python3",
      "display_name": "Python 3"
    },
    "language_info": {
      "name": "python"
    }
  },
  "cells": [
    {
      "cell_type": "markdown",
      "metadata": {
        "id": "view-in-github",
        "colab_type": "text"
      },
      "source": [
        "<a href=\"https://colab.research.google.com/github/huanping313/planets/blob/master/GEOG4016.ipynb\" target=\"_parent\"><img src=\"https://colab.research.google.com/assets/colab-badge.svg\" alt=\"Open In Colab\"/></a>"
      ]
    },
    {
      "cell_type": "markdown",
      "source": [
        "2.1.4 Code block and indentation.\n",
        "Indentation (2-4 spaces) plays a key role in delineating blocks of code. In the following for-loop, the colon : indicates that a code block follows."
      ],
      "metadata": {
        "id": "LT-9vwcWpnxf"
      }
    },
    {
      "cell_type": "code",
      "execution_count": 1,
      "metadata": {
        "colab": {
          "base_uri": "https://localhost:8080/"
        },
        "id": "BLGeNOD8o9ee",
        "outputId": "0cde18e9-d1fc-4d3c-869d-9d99b38dabe8"
      },
      "outputs": [
        {
          "output_type": "stream",
          "name": "stdout",
          "text": [
            "1\n",
            "2\n",
            "3\n",
            "4\n",
            "5\n"
          ]
        }
      ],
      "source": [
        "for i in range(0,5):\n",
        "  x = i+1\n",
        "  print(x)"
      ]
    },
    {
      "cell_type": "markdown",
      "source": [
        "2.1.5 Continuation of lines.\n",
        "Breaking long lines is easier for reading. The \\ symbol is used at the end of a code to indicate that the next line is a continuation."
      ],
      "metadata": {
        "id": "9nM_rBMKpMM0"
      }
    },
    {
      "cell_type": "code",
      "source": [
        "y = 'Breaking long lines is easier for reading. The symbol is used at the end of a code to indicate that the next line is a continuation.'\n",
        "print(y)"
      ],
      "metadata": {
        "colab": {
          "base_uri": "https://localhost:8080/"
        },
        "id": "ZO1DZonXpKbZ",
        "outputId": "49f72ef9-5511-4507-c5d9-d016037cbb87"
      },
      "execution_count": 4,
      "outputs": [
        {
          "output_type": "stream",
          "name": "stdout",
          "text": [
            "Breaking long lines is easier for reading. The \\ symbol is used at the end of a code to indicate that the next line is a continuation.\n"
          ]
        }
      ]
    },
    {
      "cell_type": "code",
      "source": [
        "y = 'Breaking long lines is easier for reading.  \\\n",
        "The symbol is used at the end of a code to indicate that the next line is a continuation.'\n",
        "print(y)"
      ],
      "metadata": {
        "colab": {
          "base_uri": "https://localhost:8080/"
        },
        "outputId": "3209d54c-cea2-4dc5-92c3-32416a60c159",
        "id": "FHS9BsMksvxa"
      },
      "execution_count": 5,
      "outputs": [
        {
          "output_type": "stream",
          "name": "stdout",
          "text": [
            "Breaking long lines is easier for reading.  The symbol is used at the end of a code to indicate that the next line is a continuation.\n"
          ]
        }
      ]
    },
    {
      "cell_type": "markdown",
      "source": [
        "2.1.6 Comments: Any code between the # symbol and a new line is igored. Shortcut: pressing control(command)+ /"
      ],
      "metadata": {
        "id": "XWWCYh6Eth8v"
      }
    },
    {
      "cell_type": "code",
      "source": [
        "a = 2+3\n",
        "a = a+1\n",
        "print(a)"
      ],
      "metadata": {
        "colab": {
          "base_uri": "https://localhost:8080/"
        },
        "id": "fwboxv62uQ3J",
        "outputId": "58fedd64-a78c-4016-be2e-42d14377f4d2"
      },
      "execution_count": 13,
      "outputs": [
        {
          "output_type": "stream",
          "name": "stdout",
          "text": [
            "5\n"
          ]
        }
      ]
    },
    {
      "cell_type": "markdown",
      "source": [
        "2.3 Data types\n",
        "\n",
        "Variables can store different types of data. There are built-in data types in Python.\n",
        "\n",
        "Numeric Types: int, float, complex\n",
        "\n",
        "Text Type: string\n",
        "\n",
        "Boolean Type: bool\n",
        "\n",
        "Sequence Types: list, tuple, range\n",
        "\n",
        "Dictionary Type: dict\n",
        "\n",
        "None Type: NoneType\n"
      ],
      "metadata": {
        "id": "eEw9Bsid3tqh"
      }
    },
    {
      "cell_type": "code",
      "source": [
        "# Using type function: type()\n",
        "\n",
        "myFirstVariable   = 23\n",
        "mySecondVariable  = 0.00036\n",
        "myThirdVariable   = \"b\"\n",
        "myFourthVariable  = True\n",
        "\n",
        "myFifthVariable   = \"Hello, World!\"\n",
        "mySixthVariable   = [0, 1, 2, 3, 4, 5, 6, 7, 8, 9]\n",
        "mySeventhVariable = (\"John\", \"Mikle\", \"Desbey\")\n",
        "\n",
        "myEighthVariable  = {\"Name\":\"John\", \"Age\":41, \"Occupation\":\"Doctor\"}\n",
        "\n",
        "myNinthVariable = None\n",
        "myTenthVariable  = range(12)\n",
        "\n",
        "print(type(myFirstVariable))\n",
        "print(type(mySecondVariable))\n",
        "print(type(myThirdVariable))\n",
        "print(type(myFourthVariable))\n",
        "print(type(myFifthVariable))\n",
        "print(type(mySixthVariable))\n",
        "print(type(mySeventhVariable))\n",
        "print(type(myEighthVariable))\n",
        "print(type(myNinthVariable))\n",
        "print(type(myTenthVariable))"
      ],
      "metadata": {
        "colab": {
          "base_uri": "https://localhost:8080/"
        },
        "id": "WLmqmw3T32El",
        "outputId": "aa3ac5c5-3cc7-4e24-a598-fa9051f74667"
      },
      "execution_count": 5,
      "outputs": [
        {
          "output_type": "stream",
          "name": "stdout",
          "text": [
            "<class 'int'>\n",
            "<class 'float'>\n",
            "<class 'str'>\n",
            "<class 'bool'>\n",
            "<class 'str'>\n",
            "<class 'list'>\n",
            "<class 'tuple'>\n",
            "<class 'dict'>\n",
            "<class 'NoneType'>\n",
            "<class 'range'>\n"
          ]
        }
      ]
    },
    {
      "cell_type": "markdown",
      "source": [
        "2.7.6 The range() function"
      ],
      "metadata": {
        "id": "yZtjjUoeXC0L"
      }
    },
    {
      "cell_type": "code",
      "source": [
        "range(0, 10)"
      ],
      "metadata": {
        "colab": {
          "base_uri": "https://localhost:8080/"
        },
        "id": "xSj_PYGMXCZf",
        "outputId": "f82eadd4-e582-4134-fafd-a41e060cb7f5"
      },
      "execution_count": 2,
      "outputs": [
        {
          "output_type": "execute_result",
          "data": {
            "text/plain": [
              "range(0, 10)"
            ]
          },
          "metadata": {},
          "execution_count": 2
        }
      ]
    },
    {
      "cell_type": "code",
      "source": [
        "list(range(0, 10))"
      ],
      "metadata": {
        "colab": {
          "base_uri": "https://localhost:8080/"
        },
        "id": "URwIshLpXLei",
        "outputId": "acb06ef9-3788-465f-f180-d18036cd077c"
      },
      "execution_count": 3,
      "outputs": [
        {
          "output_type": "execute_result",
          "data": {
            "text/plain": [
              "[0, 1, 2, 3, 4, 5, 6, 7, 8, 9]"
            ]
          },
          "metadata": {},
          "execution_count": 3
        }
      ]
    },
    {
      "cell_type": "code",
      "source": [
        "list(range(0, 10, 2))"
      ],
      "metadata": {
        "colab": {
          "base_uri": "https://localhost:8080/"
        },
        "id": "FzMx-6BiXRMO",
        "outputId": "097e5ede-bf64-4cab-c910-cce276015df3"
      },
      "execution_count": 4,
      "outputs": [
        {
          "output_type": "execute_result",
          "data": {
            "text/plain": [
              "[0, 2, 4, 6, 8]"
            ]
          },
          "metadata": {},
          "execution_count": 4
        }
      ]
    }
  ]
}