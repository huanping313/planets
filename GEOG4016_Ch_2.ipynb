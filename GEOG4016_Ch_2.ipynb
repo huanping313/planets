{
  "nbformat": 4,
  "nbformat_minor": 0,
  "metadata": {
    "colab": {
      "provenance": [],
      "include_colab_link": true
    },
    "kernelspec": {
      "name": "python3",
      "display_name": "Python 3"
    },
    "language_info": {
      "name": "python"
    }
  },
  "cells": [
    {
      "cell_type": "markdown",
      "metadata": {
        "id": "view-in-github",
        "colab_type": "text"
      },
      "source": [
        "<a href=\"https://colab.research.google.com/github/huanping313/planets/blob/master/GEOG4016_Ch_2.ipynb\" target=\"_parent\"><img src=\"https://colab.research.google.com/assets/colab-badge.svg\" alt=\"Open In Colab\"/></a>"
      ]
    },
    {
      "cell_type": "markdown",
      "source": [
        "The colab file is written for in-class intructions of GEOG 4016 (Methods of Climatological Analysis). Some of the python codes are derived from the textbook, 2023 LONI Scientific Computing Bootcamp, and other online resources.\n",
        "\n",
        "**Outline of the Colab file:**\n",
        "\n",
        "Chapter 2-3: Syntax, data types, and strings\n",
        "\n",
        "Chapter 4: Mathematical Operators\n",
        "\n",
        "Chapter 5: Structure and Control\n",
        "\n",
        "Chapter 6: File I/O\n",
        "\n",
        "Chapter 7: Numpy\n",
        "\n",
        "Chapter 8: Functions and modules\n",
        "\n",
        "Chapter 10: 1-D plotting\n",
        "\n",
        "Chapter 12, 13, 17 & Project 2"
      ],
      "metadata": {
        "id": "gUJrZrS03xEn"
      }
    },
    {
      "cell_type": "markdown",
      "source": [
        "# **Chapter 2-3: Syntax, data types, and strings**\n",
        "**1.General syntax**\n",
        "\n",
        "1.1 Code block and indentation.\n",
        "Indentation (2-4 spaces) plays a key role in delineating blocks of code. In the following if-statement, the colon : indicates that a code block follows."
      ],
      "metadata": {
        "id": "LT-9vwcWpnxf"
      }
    },
    {
      "cell_type": "code",
      "execution_count": null,
      "metadata": {
        "id": "BLGeNOD8o9ee"
      },
      "outputs": [],
      "source": [
        "i=1\n",
        "if i==1:\n",
        "  x = i+1\n",
        "  print(x)"
      ]
    },
    {
      "cell_type": "markdown",
      "source": [
        "1.2 Continuation of lines.\n",
        "Breaking long lines is easier for reading in python. The \\ symbol is used at the end of a code to indicate that the next line is a continuation, yiedling the same outputs in the next two sets of codes."
      ],
      "metadata": {
        "id": "9nM_rBMKpMM0"
      }
    },
    {
      "cell_type": "code",
      "source": [
        "y = 'This is a very long string that I want to split over multiple lines. It makes the python code more readable and easier to maintain. So breaking long string is always recommended!'\n",
        "print(y)"
      ],
      "metadata": {
        "id": "ZO1DZonXpKbZ"
      },
      "execution_count": null,
      "outputs": []
    },
    {
      "cell_type": "code",
      "source": [
        "y1 = 'This is a very long string that I want to split over multiple lines. \\\n",
        "It makes the python code more readable and easier to maintain. So breaking long string is always recommended!'\n",
        "print(y1)"
      ],
      "metadata": {
        "id": "FHS9BsMksvxa"
      },
      "execution_count": null,
      "outputs": []
    },
    {
      "cell_type": "markdown",
      "source": [
        "How can you **print** a long string in multiple lines? (hint: use \\n when defining the string)\n",
        "\n",
        "Question: What can you do if you want to split the long string **y2** into 3 lines by period? Make changes to the following code block."
      ],
      "metadata": {
        "id": "NeNHS4iZeo5G"
      }
    },
    {
      "cell_type": "code",
      "source": [
        "y2 = 'This is a very long string that I want to split over multiple lines. \\\n",
        "\\nIt makes the python code more readable and easier to maintain. So breaking long lines is always recommended!'\n",
        "print(y2)"
      ],
      "metadata": {
        "id": "g2G3WfkGevLy"
      },
      "execution_count": null,
      "outputs": []
    },
    {
      "cell_type": "markdown",
      "source": [
        "Let's look at another example:"
      ],
      "metadata": {
        "id": "hvsH59y_FHeL"
      }
    },
    {
      "cell_type": "code",
      "source": [
        "n = 1 + 2 + 3 \\\n",
        "    + 4\n",
        "print(n)"
      ],
      "metadata": {
        "id": "FdygI8GJdK3L"
      },
      "execution_count": null,
      "outputs": []
    },
    {
      "cell_type": "markdown",
      "source": [
        "1.3 Comments: Any code between the # symbol and a new line is ignored.\n",
        "\n",
        "Shortcut to add or remove comment: control+/ for Windows and command+/ for Mac."
      ],
      "metadata": {
        "id": "XWWCYh6Eth8v"
      }
    },
    {
      "cell_type": "code",
      "source": [
        "# add up two numbers\n",
        "a = 2\n",
        "a = a+1\n",
        "print(a)"
      ],
      "metadata": {
        "id": "fwboxv62uQ3J"
      },
      "execution_count": null,
      "outputs": []
    },
    {
      "cell_type": "markdown",
      "source": [
        "**2.String operation: concatenation, formatting, and indexing**\n",
        "\n",
        "Strings can be concatenated (combined) by using the + operator."
      ],
      "metadata": {
        "id": "Ltp_Qy6UPSkB"
      }
    },
    {
      "cell_type": "code",
      "source": [
        "b = 'hot'+'dog'\n",
        "print(b)"
      ],
      "metadata": {
        "id": "8HTNigziUfcz"
      },
      "execution_count": null,
      "outputs": []
    },
    {
      "cell_type": "markdown",
      "source": [
        "Sometimes it is useful to convert one data type into another (i.e., casting). .format() is a powerful tool to make your strings look nice. In the following example, while ‘{0:f}’ sets up a string expecting a float, adding '.1' in front of f limits the amount of decimal places to 1. Similarly, ‘{0:d}’ sets up a string expecting an interger. See textbook page 37 for more formats.\n",
        "\n",
        "Q1: Can you append a unit (say cm) following the number?\n",
        "\n",
        "Q2: What if we want to print the integer part of a float number?"
      ],
      "metadata": {
        "id": "M_J7YZdEUc3O"
      }
    },
    {
      "cell_type": "code",
      "source": [
        "rain = 1.24403\n",
        "s = 'The amount of rain is {0:.1f}'.format(rain)\n",
        "print(s)\n",
        "# answer Q1 by modifying the next line\n",
        "s1 = 'The amount of rain is {0:.1f}'.format(rain)\n",
        "print(s1)\n",
        "# answer Q2 by modifying the next line\n",
        "s2 = 'The amount of rain is {0:.1f}'.format(rain)\n",
        "print(s2)"
      ],
      "metadata": {
        "id": "MOs0xq0vPYhc"
      },
      "execution_count": null,
      "outputs": []
    },
    {
      "cell_type": "markdown",
      "source": [
        "The element of a string can be accessed using index starting with 0. Slicing technique allows to access a range of characters in a string. Range of characters can be indicated by a start index number and an end index number in square brackets, i.e., **string[start, end]**. The start index number has always an inclusive bound and the end index number has always an exclusive bound. In other words, the start index number is included in the range and the end index number is not."
      ],
      "metadata": {
        "id": "RwBfSTAgROxJ"
      }
    },
    {
      "cell_type": "code",
      "source": [
        "b = \"hello\"\n",
        "print(b[0])\n",
        "print(b[0:2])\n",
        "print(b[:])"
      ],
      "metadata": {
        "id": "gK8z4sN2Jd2V"
      },
      "execution_count": null,
      "outputs": []
    },
    {
      "cell_type": "markdown",
      "source": [
        "**3.Data types**\n",
        "\n",
        "Variables can store different types of data. There are built-in data types in Python.\n",
        "\n",
        "Numeric Types: int, float, complex\n",
        "\n",
        "Text Type: string\n",
        "\n",
        "Boolean Type: bool\n",
        "\n",
        "Sequence Types: list, tuple, range\n",
        "\n",
        "Dictionary Type: dict\n",
        "\n",
        "None Type: NoneType\n"
      ],
      "metadata": {
        "id": "eEw9Bsid3tqh"
      }
    },
    {
      "cell_type": "code",
      "source": [
        "# Using type function: type() to determine an object's type\n",
        "\n",
        "myFirstVariable   = 23\n",
        "mySecondVariable  = 0.00036\n",
        "myThirdVariable   = \"b\"\n",
        "myFourthVariable   = \"Hello, World!\"\n",
        "myFifthVariable  = True\n",
        "\n",
        "mySixthVariable = (\"John\", \"Mikle\", \"Desbey\")\n",
        "mySeventhVariable   = [0, 1, 2, 3, 4, 5, 6, 7, 8, 9]\n",
        "myEighthVariable  = {\"Name\":\"John\", \"Age\":41, \"Occupation\":\"Doctor\"}\n",
        "\n",
        "myNinthVariable = None\n",
        "myTenthVariable  = range(0,12)\n",
        "\n",
        "print(type(myFirstVariable))\n",
        "print(type(mySecondVariable))\n",
        "print(type(myThirdVariable))\n",
        "print(type(myFourthVariable))\n",
        "print(type(myFifthVariable))\n",
        "print(type(mySixthVariable))\n",
        "print(type(mySeventhVariable))\n",
        "print(type(myEighthVariable))\n",
        "print(type(myNinthVariable))\n",
        "print(type(myTenthVariable))"
      ],
      "metadata": {
        "id": "WLmqmw3T32El"
      },
      "execution_count": null,
      "outputs": []
    },
    {
      "cell_type": "markdown",
      "source": [
        "**4.The range() object:**\n",
        "\n",
        "Syntax: **range(b, e, s)**\n",
        "Where b is the beginning integer, e is one larger than the last integer to be generated, and s is the stride (default value is 1)\n",
        "\n",
        "A range object is not an actual list. Instead, it’s an **iterator** that generates the next integer in the sequence on demand as needed.\n",
        "\n",
        "A range object can be converted to a list by using the list() function"
      ],
      "metadata": {
        "id": "yZtjjUoeXC0L"
      }
    },
    {
      "cell_type": "code",
      "source": [
        "range(0, 10)"
      ],
      "metadata": {
        "id": "xSj_PYGMXCZf"
      },
      "execution_count": null,
      "outputs": []
    },
    {
      "cell_type": "code",
      "source": [
        "list(range(0, 10))"
      ],
      "metadata": {
        "id": "URwIshLpXLei"
      },
      "execution_count": null,
      "outputs": []
    },
    {
      "cell_type": "code",
      "source": [
        "list(range(0, 10, 2))"
      ],
      "metadata": {
        "id": "FzMx-6BiXRMO"
      },
      "execution_count": null,
      "outputs": []
    },
    {
      "cell_type": "markdown",
      "source": [
        "**5.Composite data indexing & slicing**\n",
        "\n",
        "Indexing of composite data (such as list, tuple, and dictionary) is the same as for a string. The element of a variable can be accessed using index starting with 0. Syntax: **variable[index]**\n",
        "\n",
        "Slicing technique allows to access a range of composite data. Syntax: **variable[start, end]**.  Note that the end'th element is not included."
      ],
      "metadata": {
        "id": "iV09Yyjxj_sh"
      }
    },
    {
      "cell_type": "code",
      "source": [
        "a = (0, 1, 2, 3, 4, 5)\n",
        "print(a[0])\n",
        "print(a[0:2])\n",
        "print(a[:])"
      ],
      "metadata": {
        "id": "9b286rHzkR_0"
      },
      "execution_count": null,
      "outputs": []
    },
    {
      "cell_type": "code",
      "source": [
        "a[0] = 9\n",
        "print(a)"
      ],
      "metadata": {
        "id": "YGegy9op2Xr-"
      },
      "execution_count": null,
      "outputs": []
    },
    {
      "cell_type": "code",
      "source": [
        "b = [0, 1, 2, 3, 4, 5]\n",
        "b[0] = 9\n",
        "print(b)"
      ],
      "metadata": {
        "id": "eHhO0Sg62OuW"
      },
      "execution_count": null,
      "outputs": []
    },
    {
      "cell_type": "code",
      "source": [
        "c = (0, 1, 2, 3, 4, 5)\n",
        "c[0] = 9\n",
        "print(c)"
      ],
      "metadata": {
        "id": "XaN3Db6xXxvL"
      },
      "execution_count": null,
      "outputs": []
    },
    {
      "cell_type": "markdown",
      "source": [
        "For dictionaries, you can use string index to extract specific data"
      ],
      "metadata": {
        "id": "uUV_gqAWLH1U"
      }
    },
    {
      "cell_type": "code",
      "source": [
        "d  = {\"Name\":\"John\", \"Age\":41, \"Occupation\":\"Doctor\"}\n",
        "print(d[\"Name\"])"
      ],
      "metadata": {
        "id": "XNsZKsEJK8VM",
        "collapsed": true
      },
      "execution_count": null,
      "outputs": []
    },
    {
      "cell_type": "code",
      "source": [
        "# use the code below to print out a combination of Name and Age. How can you make it work?\n",
        "print(d[\"Name\"] + d[\"Age\"])"
      ],
      "metadata": {
        "id": "wBoqpA6-MzAU"
      },
      "execution_count": null,
      "outputs": []
    },
    {
      "cell_type": "markdown",
      "source": [
        "# **Chapter 4: Mathematical Operators**\n",
        "\n",
        "Arithmetic operators:\n",
        "\n",
        "Addition: x + y\n",
        "\n",
        "Subtraction: x - y\n",
        "\n",
        "Multiplication (single asterisk): x * y\n",
        "\n",
        "Exponentiation (double asterisk): x ** y\n",
        "\n",
        "Division: x / y\n",
        "\n",
        "Truncating (or floor) division: x // y (rounds the result down to the nearest whole number)\n",
        "\n",
        "Modulus: x % y (returns the remainder of a division)"
      ],
      "metadata": {
        "id": "rVH8nMeHhI9E"
      }
    },
    {
      "cell_type": "code",
      "source": [
        "print(3+2)\n",
        "print(3-2)\n",
        "print(3*2)\n",
        "print(3**2)\n",
        "print(3/2)\n",
        "print(3//2) # Could you try replacing 3 with 4 or 4.4?\n",
        "print(3%2) # Could you try replacing 3 with 4 or 4.4?"
      ],
      "metadata": {
        "id": "XL6kA-MohXel"
      },
      "execution_count": null,
      "outputs": []
    },
    {
      "cell_type": "markdown",
      "source": [
        "Augmented assignment: used as shorthand for replacing the contents of a variable with some operation on the originial variable (x in the following examples).\n",
        "\n",
        "Assignment operators: +=, -=, *=, /=, //=, %=, **=, :=\n",
        "\n",
        "x += y is equivalent to x = x + y\n",
        "\n",
        "x -= y is equivalent to x = x - y\n",
        "\n",
        "x *= y is equivalent to x = x * y\n",
        "\n",
        "x /= y is equivalent to x = x / y\n",
        "\n",
        "x %= y is equivalent to x = x % y\n",
        "\n",
        "x //= y is equivalent to x = x // y"
      ],
      "metadata": {
        "id": "dD1mDTVuj_rK"
      }
    },
    {
      "cell_type": "code",
      "source": [
        "a = 3\n",
        "a += 2 # Could you try other operators?\n",
        "print(a)"
      ],
      "metadata": {
        "id": "U3khYVoEkhiC"
      },
      "execution_count": null,
      "outputs": []
    },
    {
      "cell_type": "markdown",
      "source": [
        "Boolean operators (and, or, not) returns Boolean values of True or False."
      ],
      "metadata": {
        "id": "kmV1j173mKS6"
      }
    },
    {
      "cell_type": "code",
      "source": [
        "x, y, z = True, False, True\n",
        "print(x or y) # Could you try replacing y with z?\n",
        "print(x and y) # Could you try replacing y with z?\n",
        "print(not y) # Could you try replacing y with z?"
      ],
      "metadata": {
        "id": "wmv3JdjFmcc8"
      },
      "execution_count": null,
      "outputs": []
    },
    {
      "cell_type": "markdown",
      "source": [
        "Comparison operators:\n",
        "\n",
        "equal to: ==\n",
        "\n",
        "not equal to: !=\n",
        "\n",
        "less than: <\n",
        "\n",
        "greater than: >\n",
        "\n",
        "greater than or equal to: >=\n",
        "\n",
        "less than or equal to: <="
      ],
      "metadata": {
        "id": "W05nJMhVugcv"
      }
    },
    {
      "cell_type": "code",
      "source": [
        "x = 2 == 3 # Could you try replacing == with other comparision operators?\n",
        "print(x)"
      ],
      "metadata": {
        "id": "LFrOyk1YvDWN"
      },
      "execution_count": null,
      "outputs": []
    },
    {
      "cell_type": "markdown",
      "source": [
        "Chained comparison: Multiple objects can be compared with another using a chained comparison. It has the form: **a comp1 b comp2 c**, where comp1 and comp2 are comparison operators. It's equivalent to a complete form **(a comp1 b) and (b comp2 c)**."
      ],
      "metadata": {
        "id": "YtjM8UvDvf1L"
      }
    },
    {
      "cell_type": "code",
      "source": [
        "4 == 2*2 < 9 # Could you rewrite it to its complete form and then run it again?"
      ],
      "metadata": {
        "id": "M4K412FNwJIj"
      },
      "execution_count": null,
      "outputs": []
    },
    {
      "cell_type": "code",
      "source": [
        "5 < 2 < 9 # Could you rewrite it to its complete form and then run it again?"
      ],
      "metadata": {
        "id": "RRY7x86mwoJQ"
      },
      "execution_count": null,
      "outputs": []
    },
    {
      "cell_type": "markdown",
      "source": [
        "Built-in math functions:\n",
        "\n",
        "abs(x) returns the absolute value of real value x\n",
        "\n",
        "max(x,y[,z, ...]) returns the max value of the input list\n",
        "\n",
        "min(x,y[,z, ...]) returns the min value of the input list\n",
        "\n",
        "pow(x, y) is the same as x**y\n",
        "\n",
        "divmod(x, y) returns the tuple containing the truncated division x//y as the 1st element and the modulo x%y as the second element\n",
        "\n",
        "round(x) returns x rounded to the nearest integer. If the number to be rounded lies equally between two multiples, the number is rounded to the even multiple.\n",
        "\n",
        "\n",
        "\n"
      ],
      "metadata": {
        "id": "4JIgk7LEwxR2"
      }
    },
    {
      "cell_type": "code",
      "source": [
        "abs(-3)"
      ],
      "metadata": {
        "id": "LF2CR-iAyJZl"
      },
      "execution_count": null,
      "outputs": []
    },
    {
      "cell_type": "code",
      "source": [
        "max(3, 4, 5)"
      ],
      "metadata": {
        "id": "nJOsk480zHUy"
      },
      "execution_count": null,
      "outputs": []
    },
    {
      "cell_type": "code",
      "source": [
        "pow(3, 2)"
      ],
      "metadata": {
        "id": "oP7BDVTwzl7r"
      },
      "execution_count": null,
      "outputs": []
    },
    {
      "cell_type": "code",
      "source": [
        "divmod(5, 2)"
      ],
      "metadata": {
        "id": "C-ED4Ju-0Ofm"
      },
      "execution_count": null,
      "outputs": []
    },
    {
      "cell_type": "code",
      "source": [
        "round(4.1) # Could you try replacing 4.1 with 4.5 or 4.9?"
      ],
      "metadata": {
        "id": "WOMunLWDypmn"
      },
      "execution_count": null,
      "outputs": []
    },
    {
      "cell_type": "markdown",
      "source": [
        "# **Chapter 5: Structure and Control**"
      ],
      "metadata": {
        "id": "zl1ABGGLJokf"
      }
    },
    {
      "cell_type": "markdown",
      "source": [
        "1.Interactive user input from terminal\n",
        "\n",
        "syntax: s = input(prompt), where the input()function asks user to type  something after the prompt, s is a string variable that will hold the input"
      ],
      "metadata": {
        "id": "ocdvMaCNL7b4"
      }
    },
    {
      "cell_type": "code",
      "source": [
        "s = input('Enter data: ') # press \"return\" after typing a number/string\n",
        "print(s)"
      ],
      "metadata": {
        "id": "SyT5cxZhMKNI"
      },
      "execution_count": null,
      "outputs": []
    },
    {
      "cell_type": "markdown",
      "source": [
        "2.Conditional statements\n",
        "\n",
        "The if statements are used to check against some conditions along the code. There are three forms of the if statements in Python that can be used: if, if ... else, if ... elif ... else.\n",
        "\n",
        "Syntax #1:\n",
        "\n",
        "    if condition:\n",
        "        block of code\n",
        "Syntax #2:\n",
        "\n",
        "    if condition:\n",
        "        block of code\n",
        "    else:\n",
        "        block of code\n",
        "\n",
        "Syntax #3:\n",
        "\n",
        "    if condition:\n",
        "        block of code\n",
        "    elif condition:\n",
        "        block of code\n",
        "    ...\n",
        "    else:\n",
        "        block of code"
      ],
      "metadata": {
        "id": "potQv1WAydpW"
      }
    },
    {
      "cell_type": "code",
      "source": [
        "if True:\n",
        "    print (\"Hello, World!\")"
      ],
      "metadata": {
        "id": "-s6ynLbUzhlK"
      },
      "execution_count": null,
      "outputs": []
    },
    {
      "cell_type": "code",
      "source": [
        "a = 1 # First run the codes, then replace 1 with 0 and rerun the codes\n",
        "if a == 1:\n",
        "  print (\"I like coding!\")\n",
        "else:\n",
        "  print (\"I don't like coding!\")"
      ],
      "metadata": {
        "id": "DLiz63xlzkcH"
      },
      "execution_count": null,
      "outputs": []
    },
    {
      "cell_type": "code",
      "source": [
        "a = 1 # First run the codes, then replace 1 with 0 (or 2) and rerun the codes\n",
        "if a == 1:\n",
        "  print (\"I like coding!\")\n",
        "elif a == 0:\n",
        "  print (\"I don't like coding!\")\n",
        "else:\n",
        "  print (\"I just like to eat!\")"
      ],
      "metadata": {
        "id": "9nKo-3et0Jb1"
      },
      "execution_count": null,
      "outputs": []
    },
    {
      "cell_type": "markdown",
      "source": [
        "Nested If ... statements"
      ],
      "metadata": {
        "id": "Z-9gShAR1tYg"
      }
    },
    {
      "cell_type": "code",
      "source": [
        "myFirstVariable  = 10 # First run the codes, then replace 10 with 20 and rerun the codes\n",
        "mySecondVariable = 20\n",
        "myThirdVariable  = 30\n",
        "\n",
        "if (myFirstVariable == 10):\n",
        "  print(\"My first variable is :\", myFirstVariable)\n",
        "  if (mySecondVariable == 20):\n",
        "    print(\"My second variable is :\", mySecondVariable)\n",
        "    if (myThirdVariable == 30):\n",
        "      print(\"My third variable is :\", myThirdVariable)"
      ],
      "metadata": {
        "id": "Hvg9WGIB1uyt"
      },
      "execution_count": null,
      "outputs": []
    },
    {
      "cell_type": "markdown",
      "source": [
        "Nested if ... else statements"
      ],
      "metadata": {
        "id": "cTUm6AoH19T5"
      }
    },
    {
      "cell_type": "code",
      "source": [
        "myFirstVariable  = 10 # First run the codes, then replace 10 with 20 and rerun the codes\n",
        "mySecondVariable = 30\n",
        "\n",
        "if (myFirstVariable == 10):\n",
        "  print(\"My first variable is :\", myFirstVariable)\n",
        "\n",
        "  if (mySecondVariable == 20):\n",
        "    print(\"My second variable is :\", mySecondVariable)\n",
        "\n",
        "  else:\n",
        "    print(\"My second variable is :\", mySecondVariable)"
      ],
      "metadata": {
        "id": "e8DbY58H11s2"
      },
      "execution_count": null,
      "outputs": []
    },
    {
      "cell_type": "code",
      "source": [
        "myFirstVariable  = \"A\" # First run the codes, then replace \"A\" with \"a\" and rerun the codes\n",
        "mySecondVariable = \"B\"\n",
        "\n",
        "if (myFirstVariable == \"A\"):\n",
        "  print(\"My first variable is :\", myFirstVariable)\n",
        "\n",
        "  if (mySecondVariable == \"B\"):\n",
        "    print(\"My second variable is :\", mySecondVariable)\n",
        "\n",
        "  else:\n",
        "    print(\"My second variable is :\", mySecondVariable)\n",
        "\n",
        "else:\n",
        "  print(\"My first variable is :\", myFirstVariable)"
      ],
      "metadata": {
        "id": "ezJ8el402Jb9"
      },
      "execution_count": null,
      "outputs": []
    },
    {
      "cell_type": "markdown",
      "source": [
        "The single-line conditional statements\n",
        "\n",
        "syntax: [expression 1] if condition else [expression 2]\n",
        "\n",
        "[expression 1] will be run if condition is true; Otherwise, [expression 2] will be run."
      ],
      "metadata": {
        "id": "aGMWbxm1J2ov"
      }
    },
    {
      "cell_type": "code",
      "source": [
        "# Textbook example in section 5.3.2\n",
        "a = float(input('Enter number: ')) # press \"return\" after typing a positive number; Next rerun the codes and type a negative number\n",
        "x = a**2 if a >= 0 else a**3\n",
        "print(x)"
      ],
      "metadata": {
        "id": "odgG0N5AKClz"
      },
      "execution_count": null,
      "outputs": []
    },
    {
      "cell_type": "code",
      "source": [
        "# Textbook example in section 5.3.2\n",
        "a = float(input('Enter number: ')) # press \"return\" after typing a positive number; Next rerun the codes and type a negative number\n",
        "print(a**2) if a >= 0 else a**3"
      ],
      "metadata": {
        "id": "mx_PwqZHKVcR"
      },
      "execution_count": null,
      "outputs": []
    },
    {
      "cell_type": "code",
      "source": [
        "# Textbook example in section 5.3.3\n",
        "mylist = ['hi', 'bye']\n",
        "if mylist:\n",
        "    print('The list has {0:d} elements.'.format(len(mylist)))\n",
        "else:\n",
        "    print('The list is empty.')"
      ],
      "metadata": {
        "id": "mue-S-SFKZzn"
      },
      "execution_count": null,
      "outputs": []
    },
    {
      "cell_type": "code",
      "source": [
        "# Textbook example in section 5.3.3\n",
        "mylist = [] # What will happen if no string is included in the []?\n",
        "if mylist:\n",
        "    print('The list has {0:d} elements.'.format(len(mylist)))\n",
        "else:\n",
        "    print('The list is empty.')"
      ],
      "metadata": {
        "id": "W4TGXektLXNK"
      },
      "execution_count": null,
      "outputs": []
    },
    {
      "cell_type": "markdown",
      "source": [
        "3.While loops\n",
        "\n",
        "While loop executes a block of code as long as condition is True.\n",
        "\n",
        "Syntax:\n",
        "\n",
        "while condition:\n",
        "\n",
        "    [block of code]\n"
      ],
      "metadata": {
        "id": "nU7hdHrqStj5"
      }
    },
    {
      "cell_type": "code",
      "source": [
        "# While loop statement with comparison operator: <\n",
        "\n",
        "myFirstVariable = 5\n",
        "i = 0\n",
        "\n",
        "while i < myFirstVariable:\n",
        "  print(i)\n",
        "  i += 1"
      ],
      "metadata": {
        "id": "yjYGTDVpSvYl"
      },
      "execution_count": null,
      "outputs": []
    },
    {
      "cell_type": "code",
      "source": [
        "# Nested while loops\n",
        "\n",
        "myFirstVariable = 5\n",
        "i, j = 0, 0\n",
        "\n",
        "while i < 5:\n",
        "  print(i)\n",
        "  i += 1\n",
        "  while j < 5:\n",
        "    print(j)\n",
        "    j += 1"
      ],
      "metadata": {
        "id": "PaRfWBXRZEmY"
      },
      "execution_count": null,
      "outputs": []
    },
    {
      "cell_type": "code",
      "source": [
        "# Infinite while loop with print statement\n",
        "while True:\n",
        "  print(\"Infinite loop\")"
      ],
      "metadata": {
        "id": "LnIlZxDRTdDS"
      },
      "execution_count": null,
      "outputs": []
    },
    {
      "cell_type": "markdown",
      "source": [
        "4.For loops\n",
        "\n",
        "A basic for loop requires an iterable object, such as a list, tuple, string, etc. The general syntax:\n",
        "\n",
        "for var in IterableObject:\n",
        "\n",
        "    \n",
        "\n",
        "> [block of code]\n",
        "\n",
        "\n",
        "\n",
        "var holds the value of the current element of IterableObject."
      ],
      "metadata": {
        "id": "WXtx1owhFUeN"
      }
    },
    {
      "cell_type": "code",
      "source": [
        "for n in range(1, 6):\n",
        "  print(n)"
      ],
      "metadata": {
        "id": "U79OtWXRFt93"
      },
      "execution_count": null,
      "outputs": []
    },
    {
      "cell_type": "markdown",
      "source": [
        "If your for loop is one line and you are using a list, you can use something called a list comprehension.\n",
        "\n",
        "syntax: newlist = [*operation on element* for *element* in *IterableObject*]"
      ],
      "metadata": {
        "id": "sLhadKr9JNGy"
      }
    },
    {
      "cell_type": "code",
      "source": [
        "# print file names without the extension .txt\n",
        "fnames = ['good.txt', 'bad.txt', 'nice.txt']\n",
        "bases = [f[0:-4] for f in fnames]\n",
        "print(bases)"
      ],
      "metadata": {
        "id": "SB-NmrzWJN2V"
      },
      "execution_count": null,
      "outputs": []
    },
    {
      "cell_type": "code",
      "source": [
        "# Nested for loop\n",
        "\n",
        "myFirstList    = [1, 2, 3]\n",
        "mySecondList   = [1, 2, 3]\n",
        "\n",
        "for i in myFirstList:\n",
        "  for j in mySecondList:\n",
        "    print(i,j) # why are the outputs acting in this way?"
      ],
      "metadata": {
        "id": "cO_quzr-Vp1-"
      },
      "execution_count": null,
      "outputs": []
    },
    {
      "cell_type": "code",
      "source": [
        "# Quiz: How can you print a list of 5 names ('Alex','Bob','Cindy','Don','Ella') using a for loop? Write your codes in this cell\n",
        "names=('Alex','Bob','Cindy','Don','Ella')\n"
      ],
      "metadata": {
        "id": "-eHmFNY-JeVx"
      },
      "execution_count": null,
      "outputs": []
    },
    {
      "cell_type": "code",
      "source": [
        "# Quiz: How can you print a list of the names in the odd position ('Alex','Cindy','Ella') using a for loop and range iterator? Write your codes in this cell\n",
        "names=('Alex','Bob','Cindy','Don','Ella')\n"
      ],
      "metadata": {
        "id": "z6kmPkNDrn5D"
      },
      "execution_count": null,
      "outputs": []
    },
    {
      "cell_type": "markdown",
      "source": [
        "5.Break statement breaks out of the loops immediately. Continue statement proceeds with execution of the loops."
      ],
      "metadata": {
        "id": "Kjckl-qoUxGJ"
      }
    },
    {
      "cell_type": "code",
      "source": [
        "# For loop with the break statement\n",
        "\n",
        "myFirstList = [ 1, 2, 3, 4, 5]\n",
        "\n",
        "for i in myFirstList:\n",
        "  if i == 3:\n",
        "    break\n",
        "  print(\"i = \", i)"
      ],
      "metadata": {
        "id": "qtPG6Gh1Uzfr"
      },
      "execution_count": null,
      "outputs": []
    },
    {
      "cell_type": "code",
      "source": [
        "# For loop with the continue statement\n",
        "\n",
        "myFirstList = [ 1, 2, 3, 4, 5]\n",
        "\n",
        "for i in myFirstList:\n",
        "  if i == 3:\n",
        "    continue\n",
        "  print(\"i = \", i)"
      ],
      "metadata": {
        "id": "AaaiSx11W4Gk"
      },
      "execution_count": null,
      "outputs": []
    },
    {
      "cell_type": "code",
      "source": [
        "# Nested for loop with innermost break statement\n",
        "\n",
        "myFirstList    = [1, 2, 3]\n",
        "mySecondList   = [1, 2, 3]\n",
        "\n",
        "for i in myFirstList:\n",
        "  for j in mySecondList:\n",
        "    if j == 2:\n",
        "      break\n",
        "    print(str(i),str(j),\" \")"
      ],
      "metadata": {
        "id": "SR4WASr5WKCM"
      },
      "execution_count": null,
      "outputs": []
    },
    {
      "cell_type": "code",
      "source": [
        "# Nested for loop with innermost continue statement\n",
        "\n",
        "myFirstList    = [1, 2, 3]\n",
        "mySecondList   = [1, 2, 3]\n",
        "\n",
        "for i in myFirstList:\n",
        "  for j in mySecondList:\n",
        "    if j == 2:\n",
        "      continue\n",
        "    print(str(i),str(j),\" \")"
      ],
      "metadata": {
        "id": "KBDtj4uuU5hv"
      },
      "execution_count": null,
      "outputs": []
    },
    {
      "cell_type": "code",
      "source": [
        "# Nested for loop with outer break statement\n",
        "\n",
        "myFirstList    = [1, 2, 3]\n",
        "mySecondList   = [1, 2, 3]\n",
        "\n",
        "for i in myFirstList:\n",
        "  if i == 2:\n",
        "      break\n",
        "  for j in mySecondList:\n",
        "    print (str(i),str(j),\" \")"
      ],
      "metadata": {
        "id": "HGJTQ_98Xw1q"
      },
      "execution_count": null,
      "outputs": []
    },
    {
      "cell_type": "code",
      "source": [
        "# While loop statement with if comparison operator ( < ) and break statement\n",
        "\n",
        "myFirstVariable = 5\n",
        "i = 0\n",
        "\n",
        "while i < 5:\n",
        "  print(i)\n",
        "  if i == 3:\n",
        "    break     # stops the loop even with the while condition is being true\n",
        "  i += 1"
      ],
      "metadata": {
        "id": "wz2hB4FcYysL"
      },
      "execution_count": null,
      "outputs": []
    },
    {
      "cell_type": "code",
      "source": [
        "# While loop statement with if comparison operator ( < ) and continue statement\n",
        "\n",
        "myFirstVariable = 5\n",
        "i = 0\n",
        "\n",
        "while i < 5:\n",
        "  i += 1\n",
        "  if i == 3:\n",
        "    continue\n",
        "  print(i)"
      ],
      "metadata": {
        "id": "WTsczuU3Y0IM"
      },
      "execution_count": null,
      "outputs": []
    },
    {
      "cell_type": "markdown",
      "source": [
        "6.The pass statement"
      ],
      "metadata": {
        "id": "unFkJPDnfhtO"
      }
    },
    {
      "cell_type": "code",
      "source": [
        "# Enter -2, 0, or 2 to test the outcomes\n",
        "a = int(input('Enter integer: '))\n",
        "if a < 0:\n",
        "    print(a)\n",
        "elif a == 0:\n",
        "    pass\n",
        "else:\n",
        "    print(a**2)"
      ],
      "metadata": {
        "id": "5Zud04Yqfn07"
      },
      "execution_count": null,
      "outputs": []
    },
    {
      "cell_type": "code",
      "source": [
        "# For loop with the pass statement\n",
        "\n",
        "myFirstList = [ 1, 2, 3, 4, 5, 6, 7, 8, 9 ]\n",
        "\n",
        "for i in myFirstList:\n",
        "  if i % 2 == 0:\n",
        "    pass\n",
        "  else:\n",
        "    print(str(i),\" \")"
      ],
      "metadata": {
        "id": "ESVamzQCge4R"
      },
      "execution_count": null,
      "outputs": []
    },
    {
      "cell_type": "markdown",
      "source": [
        "# **Chapter 6: File input/output (I/O)**"
      ],
      "metadata": {
        "id": "OKI1XM__tDy9"
      }
    },
    {
      "cell_type": "markdown",
      "source": [
        "•The open() function returns a reference to the file. Files are iterable.\n",
        "\n",
        "•_ _next_ _ method returns the next line from the file each time it’s called.\n",
        "\n",
        "•readline() method: behaves the same as the _ _next_ _ method"
      ],
      "metadata": {
        "id": "9zKdvQzbaecp"
      }
    },
    {
      "cell_type": "code",
      "source": [
        "# First, download the file datafile.txt from Moodle (Python Ch. 2-8)\n",
        "# Then upload it to the Colab drive by clicking the folder symbol on the left sidebar\n",
        "# Ensure datafile.txt is uploaded to the content folder (a subfolder called sample_data already exists)\n",
        "f = open('datafile.txt', 'r')\n",
        "print(f.__next__())\n",
        "f.close()"
      ],
      "metadata": {
        "id": "UknWZrjTwWZ7",
        "outputId": "d6c96c99-c03b-44ba-f327-ec409ed7ab36",
        "colab": {
          "base_uri": "https://localhost:8080/"
        }
      },
      "execution_count": null,
      "outputs": [
        {
          "output_type": "stream",
          "name": "stdout",
          "text": [
            "The quick brown\n",
            "\n"
          ]
        }
      ]
    },
    {
      "cell_type": "code",
      "source": [
        "f = open('datafile.txt', 'r')\n",
        "print(f.__next__())\n",
        "print(f.__next__()) # what happen if we repeat this line again?\n",
        "f.close()"
      ],
      "metadata": {
        "id": "PM_Q3E96ws8m"
      },
      "execution_count": null,
      "outputs": []
    },
    {
      "cell_type": "code",
      "source": [
        "f = open('datafile.txt', 'r')\n",
        "print(f.readline()) # How is it different from the first cell? What do you find?\n",
        "f.close()"
      ],
      "metadata": {
        "id": "Q5WlqqATxEnE"
      },
      "execution_count": null,
      "outputs": []
    },
    {
      "cell_type": "code",
      "source": [
        "f = open('datafile.txt', 'r')\n",
        "print(f.readline())\n",
        "print(f.readline())# what happen if we repeat this line again?\n",
        "f.close()"
      ],
      "metadata": {
        "id": "XElemeDDZh2V"
      },
      "execution_count": null,
      "outputs": []
    },
    {
      "cell_type": "markdown",
      "source": [
        "looping over files: Since files are iterable they can be used in a for loop construction."
      ],
      "metadata": {
        "id": "eAo3SZ564q8c"
      }
    },
    {
      "cell_type": "code",
      "source": [
        "# 6.3.2\n",
        "with open('datafile.txt', 'r') as f:\n",
        "    for line in f:\n",
        "        print(line)"
      ],
      "metadata": {
        "id": "1z9d8FyStGBM"
      },
      "execution_count": null,
      "outputs": []
    },
    {
      "cell_type": "markdown",
      "source": [
        "Reading an entire file into a list: The readlines() method returns the contents of a file as a list, with each line as an element of the list."
      ],
      "metadata": {
        "id": "eHSh6EtY5LPZ"
      }
    },
    {
      "cell_type": "code",
      "source": [
        "# 6.3.3\n",
        "with open('datafile.txt', 'r') as f:\n",
        "    data = f.readlines()\n",
        "print(data)"
      ],
      "metadata": {
        "id": "jzYlmw7zxigH"
      },
      "execution_count": null,
      "outputs": []
    },
    {
      "cell_type": "markdown",
      "source": [
        "\n",
        "Writing text to files: Individual lines of text can be written to a file using the write() method or the print() function.\n",
        "\n",
        "The write() method requires the newline character (\\n) to be explicitly included, but the print() function doesn’t require it because it’s automatically added at the end of the printed item.\n",
        "\n",
        "\n"
      ],
      "metadata": {
        "id": "xuQFOVFr7aC8"
      }
    },
    {
      "cell_type": "code",
      "source": [
        "# 6.4.1; find the generated .txt file in the 'files' folder under the Colab drive\n",
        "with open('myfile.txt', 'w') as f:\n",
        "    print('Now is the time', file=f)\n",
        "    print('for all good men', file=f)\n",
        "    print('to come to the aid', file=f)\n",
        "    print('of their country.', file=f)"
      ],
      "metadata": {
        "id": "YaiBPZ-N7cNg"
      },
      "execution_count": null,
      "outputs": []
    },
    {
      "cell_type": "code",
      "source": [
        "# What are the differences between the following and previous codes?\n",
        "with open('myfile1.txt', 'w') as f:\n",
        "    f.write('Now is the time\\n') # what happen if \\n is removed?\n",
        "    f.write('for all good men\\n')\n",
        "    f.write('to come to the aid\\n')\n",
        "    f.write('of their country.')"
      ],
      "metadata": {
        "id": "joh3fBDF7a2q"
      },
      "execution_count": null,
      "outputs": []
    },
    {
      "cell_type": "markdown",
      "source": [
        "Use the writelines() method (note plural) to write a list of strings to a file, with each element written to a separate line. Note that the newline character (\\n) should be explicitly included to write on a new line."
      ],
      "metadata": {
        "id": "Op1RN-us_KUY"
      }
    },
    {
      "cell_type": "code",
      "source": [
        "# What are the differences between the following and previous codes?\n",
        "s = ['Now is the time\\n','for all good men\\n', \\\n",
        "     'to come to the aid\\n','of their country.']\n",
        "with open('myfile2.txt', 'w') as f:\n",
        "    f.writelines(s)"
      ],
      "metadata": {
        "id": "lmkpwWld9xPF"
      },
      "execution_count": null,
      "outputs": []
    },
    {
      "cell_type": "markdown",
      "source": [
        "•The csv module can read and write text files that contain a regular number of data values. The values are separated by commas, colons, whitespace, or some other delimiter.\n",
        "\n",
        "•How to read delimited files?\n",
        "\n",
        "-Import the csv module\n",
        "\n",
        "-Open the data file for reading\n",
        "\n",
        "-Create a csv.reader object by calling the reader() function of the csv module\n",
        "\n",
        "-Since a csv.reader object is an iterable object, we can use the _ _next_ _ method or a loop structure to read individual lines of data.\n"
      ],
      "metadata": {
        "id": "J-61ys4hOUGT"
      }
    },
    {
      "cell_type": "code",
      "source": [
        "# 6.5.1; # Download the .csv file from Moodle and then upload it to the Colab drive\n",
        "import csv\n",
        "with open('datafile.csv', 'r') as f:\n",
        "    r = csv.reader(f, delimiter=',')\n",
        "    for i, data in enumerate(r):\n",
        "        if i == 0:  # Skips header row\n",
        "            pass\n",
        "        else:\n",
        "            lbs = float(data[4])\n",
        "            inch = float(data[3])\n",
        "            bmi = 703.0*lbs/inch**2\n",
        "            print(data[0], round(bmi,1))"
      ],
      "metadata": {
        "id": "My1GgflAHq3B"
      },
      "execution_count": null,
      "outputs": []
    },
    {
      "cell_type": "code",
      "source": [
        "# EAP 9 part 1: modify the previous codes to print each person’s BMI category.\n",
        "import csv\n",
        "with open('datafile.csv', 'r') as f:\n",
        "    r = csv.reader(f, delimiter=',')\n",
        "    for i, data in enumerate(r):\n",
        "        if i == 0:  # Skips header row\n",
        "            pass\n",
        "        else:\n",
        "            lbs = float(data[4])\n",
        "            inch = float(data[3])\n",
        "            bmi = 703.0*lbs/inch**2\n",
        "            print(data[0], round(bmi,1))"
      ],
      "metadata": {
        "id": "kRbxDHMHjTDC"
      },
      "execution_count": null,
      "outputs": []
    },
    {
      "cell_type": "markdown",
      "source": [
        "•Delimited files can be written by first creating a csv.writer object.\n",
        "\n",
        "•The csv.writer object has two methods for writing data to the file\n",
        "\n",
        "writerow(ls) writes the 1-D list, ls, to a single row of the file. Each element is separated by the delimiter.\n",
        "\n",
        "writerows(ls) writes the 2-D list, ls, to the file. Each element of the list is on a row, and its subelements are separated by the delimiter."
      ],
      "metadata": {
        "id": "Y4cQFqUcN-mS"
      }
    },
    {
      "cell_type": "code",
      "source": [
        "# 6.5.2; After running the codes, find the .txt file in the 'Files' folder under the Colab drive\n",
        "head = ['City', 'County', 'Population']\n",
        "data = [['Layton', 'Davis', 77303],\n",
        "        ['Ogden', 'Weber', 88825],\n",
        "        ['Toole', 'Toole', 31605]]\n",
        "import csv\n",
        "filename = 'cities.txt'\n",
        "with open(filename, 'w') as fout:\n",
        "    w = csv.writer(fout, delimiter=';')\n",
        "    w.writerow(head)\n",
        "    w.writerows(data)"
      ],
      "metadata": {
        "id": "vDPOyoupHsa8"
      },
      "execution_count": null,
      "outputs": []
    },
    {
      "cell_type": "markdown",
      "source": [
        "The os.path module:\n",
        "\n",
        "\n",
        "*   Working with Path and File names\n",
        "*   Checking for the existence of specific paths, files, and directories\n",
        "\n",
        "\n",
        "\n"
      ],
      "metadata": {
        "id": "sFo6nS-6aEfd"
      }
    },
    {
      "cell_type": "code",
      "source": [
        "# Open Anaconda and create a new Jupyter notebook file (Note: remember the path/folder that you create and store the file)\n",
        "# Copy and paste the following codes to the file, modify the variable p to be the path you desire on your computer\n",
        "import os.path as pth\n",
        "# use one of the three ways to specify a path name (p) on Macbook or Windows\n",
        "p = '/Users/HuanpingHuang_1/Downloads/ida.png' # Macbook: define your own path name\n",
        "# p = r'C:\\Users\\HuanpingHuang_1\\Downloads\\ida.png' # option 1 on Windows:define your own path name with Raw String (r\"...\"),r tells Python to treat backslashes literally\n",
        "# p = 'C:/Users/HuanpingHuang_1/Downloads/ida.png'  # option 2 on Windows:define your own path name with Forward Slashes (/)\n",
        "print(pth.abspath(p)) # returns absolute path (=directory+base)\n",
        "print(pth.dirname(p)) # returns the directory name of the path\n",
        "print(pth.basename(p)) # returns the base name of the path\n",
        "print(pth.split(p)) # returns a tuple with the directory and base path as its two elements\n",
        "print(pth.exists(p)) # returns True if p exists as an actual path\n",
        "print(pth.isfile(p)) # returns True if p is an existing file\n",
        "print(pth.isdir(p)) # returns True if p is an existing directory"
      ],
      "metadata": {
        "id": "wjYTYUnPaFX1"
      },
      "execution_count": null,
      "outputs": []
    },
    {
      "cell_type": "code",
      "source": [
        "# 6.5.2; Copy the codes to a new cell in Jupyter notebook and then run the code. Do you produce a new .txt file under the same directory as your Jupyter notebook?\n",
        "head = ['City', 'County', 'Population']\n",
        "data = [['Layton', 'Davis', 77303],\n",
        "        ['Ogden', 'Weber', 88825],\n",
        "        ['Toole', 'Toole', 31605]]\n",
        "import csv\n",
        "filename = 'cities.txt'\n",
        "with open(filename, 'w') as fout:\n",
        "    w = csv.writer(fout, delimiter=';')\n",
        "    w.writerow(head)\n",
        "    w.writerows(data)"
      ],
      "metadata": {
        "id": "_czAvp39k7mH"
      },
      "execution_count": null,
      "outputs": []
    },
    {
      "cell_type": "markdown",
      "source": [
        "# **Chapter 7: Numpy**\n",
        "\n",
        "Numpy, short for “Numerical Python”, is the fundamental package for scientific computing with Python.\n",
        "\n",
        "To use its functionality, we must first “import numpy”\n"
      ],
      "metadata": {
        "id": "Ze45XAcolpU0"
      }
    },
    {
      "cell_type": "code",
      "source": [
        "import numpy as np\n",
        "a = [1, 2, 3, 4, 5]\n",
        "print(np.mean(a))"
      ],
      "metadata": {
        "id": "Mc84NtjhmSdU"
      },
      "execution_count": null,
      "outputs": []
    },
    {
      "cell_type": "code",
      "source": [
        "import numpy as np\n",
        "a = [1, 2, 3, 4, 5]\n",
        "b = np.array(a) # convert a python list to a Numpy array\n",
        "print(type(a))\n",
        "print(type(b))\n",
        "print(np.mean(b))"
      ],
      "metadata": {
        "id": "eRx1Qr2fnJwr"
      },
      "execution_count": null,
      "outputs": []
    },
    {
      "cell_type": "code",
      "source": [
        "# NumPy arrays are fixed-type (homogenous), i.e., ONE defined data type! (Unlike lists!)\n",
        "\n",
        "# Return the dtype (data type) of array:\n",
        "myAry = np.array([1, 4, 9, 16]) # int64\n",
        "#myAry = np.array([1., 4., 9., 16.]) # float64\n",
        "#myAry = np.array([\"1\", \"4\", \"9\", \"16\"]) # Unicode string type\n",
        "print(\"myAry = \", myAry)\n",
        "print(\"Data type is: \", myAry.dtype)\n",
        "\n",
        "# What happen when different data types are mixed within an array (inhomogeneous)?"
      ],
      "metadata": {
        "id": "TlSyPf-QnIER"
      },
      "execution_count": null,
      "outputs": []
    },
    {
      "cell_type": "code",
      "source": [
        "# other common functions\n",
        "print(np.max(b))\n",
        "print(np.min(b))\n",
        "print(np.std(b))"
      ],
      "metadata": {
        "id": "5qGIylayncsI"
      },
      "execution_count": null,
      "outputs": []
    },
    {
      "cell_type": "markdown",
      "source": [
        "The numpy.zeros(shape, dtype) function returns a new array of given shape and type, filled with zeros.\n",
        "\n",
        "Parameters:\n",
        "\n",
        "shape: Shape of the new array, int or tuple of ints, e.g., (2, 3) or 2.\n",
        "\n",
        "dtype: The desired data-type for the array (optional). Default is numpy.float64."
      ],
      "metadata": {
        "id": "4RkMFoSFo2Jm"
      }
    },
    {
      "cell_type": "code",
      "source": [
        "print(np.zeros((2, 3))) # What if only an interger 2 is included within np.zeros()?"
      ],
      "metadata": {
        "id": "MAeYKKQQpWbx"
      },
      "execution_count": null,
      "outputs": []
    },
    {
      "cell_type": "markdown",
      "source": [
        "numpy.arange(start, stop, step) returns evenly spaced values within a given interval [start, stop] with a step. Note that stop is not included in the outputs."
      ],
      "metadata": {
        "id": "Lt9Fc_8UuvID"
      }
    },
    {
      "cell_type": "code",
      "source": [
        "np.arange(1, 5, 1)"
      ],
      "metadata": {
        "id": "Glm-jOhqvOsd"
      },
      "execution_count": null,
      "outputs": []
    },
    {
      "cell_type": "markdown",
      "source": [
        "numpy.linspace(start, stop, num=x, endpoint=True) returns x evenly spaced samples, calculated over the interval [start, stop].\n",
        "\n",
        "The endpoint of the interval can optionally be excluded by specifying \"endpoint=True\" or \"endpoint=False\" (default is True)."
      ],
      "metadata": {
        "id": "cfYKQ7HprzgP"
      }
    },
    {
      "cell_type": "code",
      "source": [
        "np.linspace(1, 5, num=5, endpoint=True) # what if endpoint=False? How about removing endpoint=True?"
      ],
      "metadata": {
        "id": "rcQEjL6JsdTG"
      },
      "execution_count": null,
      "outputs": []
    },
    {
      "cell_type": "markdown",
      "source": [
        "Array indexing:\n"
      ],
      "metadata": {
        "id": "QgcADUCi0108"
      }
    },
    {
      "cell_type": "code",
      "source": [
        "# One-dimensional array\n",
        "myAry = np.arange(5)\n",
        "print(\"myAry = \", myAry)\n",
        "print(\"myAry[0] = \", myAry[0])\n",
        "print(\"myAry[-1] = \", myAry[-1])"
      ],
      "metadata": {
        "id": "TN-QyxPQ05W4"
      },
      "execution_count": null,
      "outputs": []
    },
    {
      "cell_type": "code",
      "source": [
        "# Multi-dimensional array\n",
        "\n",
        "myAry = np.array([[1, 4, 9, 10],\n",
        "                  [0, 8, 7, 3],\n",
        "                  [5, 6, 2, 11]], dtype=\"float\")\n",
        "print(\"myAry = \\n\", myAry)   # \\n creates a new line\n",
        "\n",
        "print(\"\\nmyAry[2,1] = \", myAry[2,1])\n",
        "\n",
        "myAry[0,3] *= -1\n",
        "print(\"\\nmyAry now is: \\n\", myAry)"
      ],
      "metadata": {
        "id": "7b054i7d1KFD"
      },
      "execution_count": null,
      "outputs": []
    },
    {
      "cell_type": "markdown",
      "source": [
        "Array slicing:"
      ],
      "metadata": {
        "id": "YoLpZLhG2z0A"
      }
    },
    {
      "cell_type": "code",
      "source": [
        "# One-dimensional array slicing\n",
        "myAry = np.arange(10)\n",
        "print(\"myAry = \\t\", myAry)\n",
        "\n",
        "print(\"myAry[2:7] = \\t\", myAry[2:7])      # From index 2 to 7 (endpoint not included)\n",
        "print(\"myAry[2:] = \\t\", myAry[2:])        # From index 2 to the end\n",
        "print(\"myAry[:7] = \\t\", myAry[:7])        # From the beginning to index 7\n",
        "print(\"myAry[2:7:2] = \\t\", myAry[2:7:2])  # From index 2 to 7, step length 2\n",
        "print(\"myAry[-5:-2] = \\t\", myAry[-5:-2])  # From index -5 (5th to last) to -2\n",
        "print(\"myAry[:] = \\t\", myAry[:])          # The entire array"
      ],
      "metadata": {
        "id": "0-8jQkmS1tWW"
      },
      "execution_count": null,
      "outputs": []
    },
    {
      "cell_type": "code",
      "source": [
        "# Multi-dimensional array slicing\n",
        "myAry = np.array([[0, 1, 2, 3],\n",
        "                  [4, 5, 6, 7],\n",
        "                  [8, 9, 10, 11],\n",
        "                  [12, 13, 14, 15]])\n",
        "print(\"myAry = \\n\", myAry)\n",
        "\n",
        "print(\"\\nmyAry[1, 1:3] = \\n\", myAry[1, 1:3])      # Fix the first index, slicing the second\n",
        "print(\"\\nmyAry[1,:] = \\n\", myAry[1,:])            # Fix first index, return the entire second index\n",
        "print(\"\\nmyAry[:,2] = \\n\", myAry[:,2])            # Fix second index, return the entire first index\n",
        "print(\"\\nmyAry[1::2, 2] = \\n\", myAry[1::2, 2])    # Fix the second index, slicing the first\n",
        "print(\"\\nmyAry[:, ::3] = \\n\", myAry[:, ::3])      # Return the entire first index, slicing the second\n",
        "print(\"\\nmyAry[:,:] = \\n\", myAry[:,:])            # Return the entire array"
      ],
      "metadata": {
        "id": "daKgOnXC2Bes"
      },
      "execution_count": null,
      "outputs": []
    },
    {
      "cell_type": "markdown",
      "source": [
        "Advanced Array Operations\n",
        "\n",
        "Example 1: Add 5 to each element of an integer array of size 100"
      ],
      "metadata": {
        "id": "G9oxLfRX5DS_"
      }
    },
    {
      "cell_type": "code",
      "source": [
        "# How to do that with Python lists?\n",
        "\n",
        "myList1 = list(range(10))\n",
        "print(\"myList1: \\n\", myList1)\n",
        "myList2 = [val+5 for val in myList1] # calculation with for loop\n",
        "print(\"myList2: \\n\", myList2)"
      ],
      "metadata": {
        "id": "G_klINMC5ErL"
      },
      "execution_count": null,
      "outputs": []
    },
    {
      "cell_type": "code",
      "source": [
        "# How to do that with NumPy arrays?\n",
        "\n",
        "myAry1 = np.arange(10)\n",
        "print(\"myAry1: \\n\", myAry1)\n",
        "myAry2 = myAry1 + 5 # calculation with +\n",
        "print(\"myAry2: \\n\", myAry2)"
      ],
      "metadata": {
        "id": "h-_dPZc25inn"
      },
      "execution_count": null,
      "outputs": []
    },
    {
      "cell_type": "markdown",
      "source": [
        "Example 2: Multiply each element of an integer list/array by 10"
      ],
      "metadata": {
        "id": "RZV0OIvS7RA-"
      }
    },
    {
      "cell_type": "code",
      "source": [
        "# How to do that with Python lists?\n",
        "a = [[1, 2, 3, 4, 5], [1, 2, 3, 4, 5]]\n",
        "print(\"Before multiplying: \\n\",a)\n",
        "\n",
        "for i in range(2):\n",
        "  for j in range(5):\n",
        "    a[i][j] = a[i][j]*10\n",
        "print(\"After multiplying: \\n\", a)"
      ],
      "metadata": {
        "id": "1EvB7Uzl7Sd1"
      },
      "execution_count": null,
      "outputs": []
    },
    {
      "cell_type": "code",
      "source": [
        "# How to do that with NumPy arrays?\n",
        "a = [[1, 2, 3, 4, 5], [1, 2, 3, 4, 5]]\n",
        "a_n = np.array(a) # convernt a list to an Numpy array\n",
        "print(\"Before multiplying: \\n\",a_n)\n",
        "\n",
        "a_n = a_n*10\n",
        "print(\"After multiplying: \\n\", a_n)"
      ],
      "metadata": {
        "id": "t4ktPB3s8OZG"
      },
      "execution_count": null,
      "outputs": []
    },
    {
      "cell_type": "markdown",
      "source": [
        "Reading arrays from files\n",
        "\n",
        "**The loadtxt() function**:\n",
        "\n",
        "Syntax: a = np.loadtxt(filename, dtype=dtype, delimiter=del, skiprows=sr, usecols=cols)\n",
        "\n",
        "•filename (required): a string of filename (include directory name if stored in different path)\n",
        "\n",
        "•dtype (optional): data-type, default is float.\n",
        "\n",
        "•delimiter (optional): The character used to separate the values. The default is whitespace.\n",
        "\n",
        "•Skiprows (optional): int, Skip the first skiprows lines, including comments; default: 0.\n",
        "\n",
        "•usecols (optional): int or sequence, specify which columns to read, with 0 being the first. For example, usecols = (1,4,5) will extract the 2nd, 5th and 6th columns. The default, None, results in all columns being read."
      ],
      "metadata": {
        "id": "GOYSPepBI8JF"
      }
    },
    {
      "cell_type": "code",
      "source": [
        "# copy these codes to your jupyter notebook to complete HW3 method 2\n",
        "import numpy as np\n",
        "data = np.loadtxt('IPCC_temperature_anomalies.csv', dtype=np.float64, delimiter=',', skiprows=1) #"
      ],
      "metadata": {
        "id": "U4DPgPgwJTwt"
      },
      "execution_count": null,
      "outputs": []
    },
    {
      "cell_type": "markdown",
      "source": [
        "# **Chapter 8: Functions and modules**\n",
        "\n",
        "Syntax:\n",
        "\n",
        "def functionName(parameters):\n",
        "\n",
        "   \n",
        "\n",
        "> [code block for desired tasks]\n",
        "\n",
        "\n",
        "\n",
        "> return [values]\n",
        "\n",
        "\n",
        "\n",
        "   "
      ],
      "metadata": {
        "id": "mhaZKHrYv8UF"
      }
    },
    {
      "cell_type": "code",
      "source": [
        "# 8.1.1\n",
        "def sphere_area(r):\n",
        "    pi = 3.1415927\n",
        "    return 4*pi*r**2\n",
        "sphere_area(5)"
      ],
      "metadata": {
        "id": "xRX7NWze7O5k"
      },
      "execution_count": null,
      "outputs": []
    },
    {
      "cell_type": "code",
      "source": [
        "# 8.1.2\n",
        "def sphere_area(r, radius=True):\n",
        "    pi = 3.1415927\n",
        "    if not radius:\n",
        "        r /= 2.0  # Divide input value (diameter) by 2 to get radius\n",
        "    return 4*pi*r**2\n",
        "sphere_area(5, radius=True) # What if radius=False"
      ],
      "metadata": {
        "id": "aSEfvTfQwATN"
      },
      "execution_count": null,
      "outputs": []
    },
    {
      "cell_type": "code",
      "source": [
        "def lin_eq(slope, x_position, y_intercept):\n",
        "  y = slope*x_position + y_intercept\n",
        "  return y\n",
        "\n",
        "print(lin_eq(3,1,5))\n",
        "print(lin_eq(10,4,8))\n",
        "print(lin_eq(0,4,8))"
      ],
      "metadata": {
        "id": "h0oj7i23Ni97"
      },
      "execution_count": null,
      "outputs": []
    },
    {
      "cell_type": "markdown",
      "source": [
        "Global and local variables\n",
        "\n",
        "•Global variables are the variables that can be accessed from anywhere in your code. That said, they are available to functions as well.\n",
        "\n",
        "•If we define a variable within a function, that variable is only known to the function. Thus, it’s called a local variable."
      ],
      "metadata": {
        "id": "plKlw8HJBcft"
      }
    },
    {
      "cell_type": "code",
      "source": [
        "def my_funtion(z):\n",
        "  return (a+z)\n",
        "\n",
        "a = 10 # Global variable\n",
        "my_funtion(2) # z is a local variable\n",
        "print(z) # what if z is changed to a?"
      ],
      "metadata": {
        "id": "l8eWw2ppBi0r"
      },
      "execution_count": null,
      "outputs": []
    },
    {
      "cell_type": "markdown",
      "source": [
        "Creating modules:\n",
        "\n",
        "A module is simply a collection of Python statements (functions and/or constants) stored in a single file.\n",
        "\n",
        "The name of a module is taken from the name of the file in which it's stored.\n",
        "\n",
        "In Jupyter Notebooks/Colab, the default file format is .ipynb. **If you want to save a notebook (or part of it) as a Python file (.py), you can export the entire notebook as a .py file.** How? Go to the File menu in the Jupyter Notebook/Colab interface. Click on Download -> Python (.py). This will download the notebook as a Python file (.py) with the same name as the notebook.\n",
        "\n",
        "If you use Jupyter Notebooks to create the module, make sure the .py file is downloaded to the same directory that stores your .ipynb file. If you use Colab to create the module, make sure the .py file is first downloaded to your computer's hard drive and then uploaded to the Colab drive."
      ],
      "metadata": {
        "id": "tZ5kLQy295_D"
      }
    },
    {
      "cell_type": "code",
      "source": [
        "# Goal: Create a new module named Sphere\n",
        "# How? Copy and paste the following codes to a new Jupyter Notebook, store the file as Sphere.py on your computer, see instructions above\n",
        "pi = 3.1415927\n",
        "def area(r):\n",
        "    return 4*pi*r**2\n",
        "\n",
        "def volume(r):\n",
        "    return (4.0/3.0)*pi*r**3"
      ],
      "metadata": {
        "id": "tdOgIvv398lt"
      },
      "execution_count": null,
      "outputs": []
    },
    {
      "cell_type": "markdown",
      "source": [
        "To use a module, it must be first imported like numpy. Syntax: import module_name"
      ],
      "metadata": {
        "id": "54Qm61KqORLG"
      }
    },
    {
      "cell_type": "code",
      "source": [
        "import Sphere\n",
        "area = Sphere.area(5)\n",
        "volume = Sphere.volume(5)\n",
        "print(area, volume)"
      ],
      "metadata": {
        "id": "ZNxc97AJZ5OX"
      },
      "execution_count": null,
      "outputs": []
    },
    {
      "cell_type": "markdown",
      "source": [
        "# **Chapter 10: 1-D plotting**\n",
        "\n",
        "Goal: create basic one-dimensional (1-D) plots using the Matplotlib plotting library\n",
        "\n",
        "There are dozens of submodules within the library, and the primary submodule to be used is pyplot. The latter can be imported for use with the statement:\n",
        "  import matplotlib.pyplot as plt"
      ],
      "metadata": {
        "id": "w_q8eMK_2l5T"
      }
    },
    {
      "cell_type": "code",
      "source": [
        "import numpy as np\n",
        "import matplotlib.pyplot as plt\n",
        "x = np.array([1, 2, 3, 4, 5]) # Generate x-axis values\n",
        "y = np.array([1, 2, 3, 4, 5]) # Generate y-axis values\n",
        "\n",
        "plt.plot(x,y)   # Plot data onto axes\n",
        "plt.show()  # Display plot to screen"
      ],
      "metadata": {
        "id": "TpA79IGF3Mim"
      },
      "execution_count": null,
      "outputs": []
    },
    {
      "cell_type": "code",
      "source": [
        "# Change figure appearance by specifying marker, color, and grid lines\n",
        "import numpy as np\n",
        "import matplotlib.pyplot as plt\n",
        "x = np.array([1, 2, 3, 4, 5]) # Generate x-axis values\n",
        "y = np.array([1, 2, 3, 4, 5]) # Generate y-axis values\n",
        "\n",
        "plt.plot(x, y, marker='.', markersize=5, color='red')   # Can you try using different markers and colors?\n",
        "plt.grid() # What happen if we comment out this line?\n",
        "plt.show()  # Display plot to screen"
      ],
      "metadata": {
        "id": "Q-GEMaRO3uQr"
      },
      "execution_count": null,
      "outputs": []
    },
    {
      "cell_type": "code",
      "source": [
        "# 10.2\n",
        "import numpy as np\n",
        "import matplotlib.pyplot as plt\n",
        "x = np.arange(0,100.5,0.5) # Generate x-axis values\n",
        "y = 2*np.sqrt(x)  # Calculate y-values\n",
        "plt.plot(x,y)   # Plot data onto axes\n",
        "plt.show()  # Display plot to screen"
      ],
      "metadata": {
        "id": "HFVID-7x2-m-"
      },
      "execution_count": null,
      "outputs": []
    },
    {
      "cell_type": "markdown",
      "source": [
        "What if we want more control over the plotting? We need to better understand how matplotlib sets up the figure and axes."
      ],
      "metadata": {
        "id": "UFr43w6Kub_c"
      }
    },
    {
      "cell_type": "code",
      "source": [
        "# 10.3.3\n",
        "import numpy as np\n",
        "import matplotlib.pyplot as plt\n",
        "x = np.arange(0,100.5,0.5) # Generate x-axis values\n",
        "y = 2.0*np.sqrt(x)  # Calculate y-values\n",
        "\n",
        "fig = plt.figure()  # Create a figure object\n",
        "ax = fig.add_axes([0.1, 0.1, 0.8, 0.8]) # Create an axes object by using add_axes([x,y,w,h])\n",
        "ax.plot(x,y,marker='.', markersize=5, color='red')   # Plot data onto axes\n",
        "\n",
        "plt.title('Plot of y=2*sqrt(x)')\n",
        "plt.legend(['Temperature'])\n",
        "ax.set_xlabel('x values')\n",
        "ax.set_ylabel('y values')\n",
        "plt.show()  # Display plot to screen"
      ],
      "metadata": {
        "id": "aMOGq6_qtni7"
      },
      "execution_count": null,
      "outputs": []
    },
    {
      "cell_type": "markdown",
      "source": [
        "SciPy is a Python library used for scientific and technical computing. It builds on NumPy, providing additional functionality for tasks such as numerical integration, optimization, interpolation, signal processing, and more.\n",
        "\n",
        "One of its core functionality is stats that offers a collection of statistical functions and tests."
      ],
      "metadata": {
        "id": "EKIlCdV38fO7"
      }
    },
    {
      "cell_type": "code",
      "source": [
        "# 10.a: Scatter plot with linear regression\n",
        "import matplotlib.pyplot as plt\n",
        "from scipy import stats\n",
        "\n",
        "x = [5,7,8,7,2,17,2,9,4,11,12,9,6]\n",
        "y = [99,86,87,88,111,86,103,87,94,78,77,85,86]\n",
        "\n",
        "slope, intercept, r, p, std_err = stats.linregress(x, y) # fit a linear regression\n",
        "\n",
        "def myfunc(x):\n",
        "  return slope * x + intercept\n",
        "\n",
        "y2 = list(map(myfunc, x)) # calculate model values; map(function, iterable) allows you to process and transform all the items in an iterable without using an explicit for loop\n",
        "\n",
        "plt.scatter(x, y)\n",
        "plt.plot(x, y2)\n",
        "plt.show()"
      ],
      "metadata": {
        "id": "9SlJZw3bPiN-"
      },
      "execution_count": null,
      "outputs": []
    },
    {
      "cell_type": "code",
      "source": [
        "# 10.b: Exercise: statistical analysis\n",
        "import matplotlib.pyplot as plt\n",
        "from scipy import stats\n",
        "\n",
        "# linear regression\n",
        "slope, intercept, r, p, std_err = stats.linregress(x, y)\n",
        "print('slope = ',slope, 'p-value = ', p)\n",
        "\n",
        "def myfunc(x):\n",
        "  return slope * x + intercept\n",
        "\n",
        "y2 = list(map(myfunc, x)) # calculate model values\n",
        "plt.plot(x, y2)\n",
        "\n",
        "# Perform the t-test:\n",
        "t_stat, p_value = stats.ttest_ind(y, y2)\n",
        "print('t_stat = ',t_stat, 'p-value = ', p_value)\n",
        "alpha = 0.05\n",
        "if p_value < alpha:\n",
        "    print(\"Reject the null hypothesis; there is a significant difference between the two experiments.\")\n",
        "else:\n",
        "    print(\"Fail to reject the null hypothesis; there is NO significant difference between the two experiments.\")\n",
        "\n",
        "# calculate the 95% confidence intervals\n",
        "ci1 = stats.norm.interval(confidence=0.95, loc=np.mean(y), scale=stats.sem(y)) #loc: location; sem:standard error of the mean.\n",
        "print(ci1)\n",
        "ci2 = stats.norm.interval(confidence=0.95, loc=np.mean(y2), scale=stats.sem(y2))\n",
        "print(ci2)"
      ],
      "metadata": {
        "id": "_RyN9cxU9HBQ"
      },
      "execution_count": null,
      "outputs": []
    },
    {
      "cell_type": "code",
      "source": [
        "# 10.17.5; plot histograms\n",
        "import numpy as np\n",
        "import matplotlib.pyplot as plt\n",
        "\n",
        "# first population x1\n",
        "mu, sigma = 8, 1.5\n",
        "x1 = sigma*np.random.normal(mu, sigma, 1000)\n",
        "# histogram with 50 bins\n",
        "n, bins, patches = plt.hist(x1, 30, density=True,\n",
        "                            color='g',\n",
        "                            edgecolor ='0.2')\n",
        "\n",
        "# second population x2\n",
        "mu, sigma = 6, 1.2\n",
        "x2 = sigma*np.random.normal(mu, sigma, 1000)\n",
        "# second histogram, partially transparent\n",
        "n, bins, patches = plt.hist(x2, 20, density=True,\n",
        "                            color='r',\n",
        "                            edgecolor='0.2',\n",
        "                            alpha=0.5)\n",
        "\n",
        "plt.xlabel('$X$')\n",
        "plt.ylabel('Probability')\n",
        "plt.title('Two histograms')\n",
        "plt.grid(True, linestyle='dotted')\n",
        "plt.show()"
      ],
      "metadata": {
        "id": "VWoqagl0BXy_"
      },
      "execution_count": null,
      "outputs": []
    },
    {
      "cell_type": "code",
      "source": [
        "# 10.c: plot PMF and CDF for a randomly generated list x\n",
        "import random\n",
        "import scipy\n",
        "x = [random.random() for r in range(1000)] # The random() method returns a random floating number between 0 and 1.\n",
        "\n",
        "# plot PMF\n",
        "num_bins = 50\n",
        "counts, bins = np.histogram(x, bins=num_bins)\n",
        "bins = bins[:-1] + (bins[1] - bins[0])/2\n",
        "probs = counts/float(counts.sum())\n",
        "print(probs)\n",
        "plt.bar(bins, probs, 1.0/num_bins)\n",
        "plt.xlabel('x values')\n",
        "plt.ylabel('Probability')\n",
        "plt.title('PMF of x')\n",
        "plt.show()\n",
        "\n",
        "# plot CDF\n",
        "plt.figure() # create a new figure\n",
        "probs_cum = np.cumsum(counts)/float(counts.sum())\n",
        "plt.bar(bins, probs_cum, 1.0/num_bins)\n",
        "print(probs_cum)\n",
        "plt.xlabel('x values')\n",
        "plt.ylabel('Probability')\n",
        "plt.title('CDF of x')\n",
        "plt.show()"
      ],
      "metadata": {
        "id": "5h9kUYVUbcRT"
      },
      "execution_count": null,
      "outputs": []
    },
    {
      "cell_type": "markdown",
      "source": [
        "# **Chapter 12, 13, 17 & Project 2**\n",
        "\n",
        "We will leverage the following three chapters to complete project 2 (Python for Climate Data Analysis).\n",
        "\n",
        "Chapter 17: Scientific datasets (primarily NetCDF)\n",
        "\n",
        "Chapter 12: 2-D plotting (primarily pcolormesh)\n",
        "\n",
        "Chapter 13: Cartopy (for coordinate mapping)"
      ],
      "metadata": {
        "id": "GQHOyHr_-SW5"
      }
    },
    {
      "cell_type": "markdown",
      "source": [
        "To open a NetCDF file with the netCDF4 module, use the two commands:\n",
        "\n",
        "\n",
        "\n",
        "```\n",
        "import netCDF4\n",
        "f = netCDF4.Dataset(filename, 'r')\n",
        "```\n",
        "\n"
      ],
      "metadata": {
        "id": "9OAdcZaeon8N"
      }
    },
    {
      "cell_type": "code",
      "source": [
        "import netCDF4\n",
        "f = netCDF4.Dataset(filename, 'r') # insert your filename with .nc as the extension\n",
        "print(f)\n",
        "for v in f.variables:\n",
        "  print(v)"
      ],
      "metadata": {
        "id": "Y2EFW5dRom9C"
      },
      "execution_count": null,
      "outputs": []
    },
    {
      "cell_type": "markdown",
      "source": [
        "To access the data contained in variables:\n",
        "\n",
        "\n",
        "```\n",
        "f.variables['variable_name'] # returns attribute info\n",
        "f.variables['variable_name'][:] # returns a masked array\n",
        "f.variables['variable_name'][:].data # returns data only\n",
        "f.variables['variable_name'].units # returns units\n",
        "```\n",
        "\n"
      ],
      "metadata": {
        "id": "ptuSlYDNrubn"
      }
    },
    {
      "cell_type": "code",
      "source": [
        "f.variables['variable_name']\n",
        "f.variables['variable_name'][:]\n",
        "f.variables['variable_name'][:].data\n",
        "f.variables['variable_name'].units"
      ],
      "metadata": {
        "id": "fyUoG3bBpvLA"
      },
      "execution_count": null,
      "outputs": []
    },
    {
      "cell_type": "markdown",
      "source": [
        "Once finish reading the data, we should close the file with f.close()"
      ],
      "metadata": {
        "id": "ai-DhKLvtLjR"
      }
    },
    {
      "cell_type": "code",
      "source": [
        "f.close()"
      ],
      "metadata": {
        "id": "Jr2RDwrYn_w1"
      },
      "execution_count": null,
      "outputs": []
    },
    {
      "cell_type": "code",
      "source": [
        "# 13.a; copy the sample codes to your Jupyter notebook to download multiple data files\n",
        "#import urllib.request\n",
        "\n",
        "for yr in range(1981,2023): # note that in python, the end range is not inclusive. So, in this case data for 2023 is not downloaded.\n",
        "    url = f'https://downloads.psl.noaa.gov/Datasets/cpc_global_precip/precip.{yr}.nc' # or .../cpc_global_temp/tmax.{yr}.nc'\n",
        "    savename = url.split('/')[-1]\n",
        "    urllib.request.urlretrieve(url,savename)"
      ],
      "metadata": {
        "id": "hXOiTK-YtkOj"
      },
      "execution_count": null,
      "outputs": []
    },
    {
      "cell_type": "code",
      "source": [
        "# 13.b;\n",
        "for yr in range(1979,1981): # note that in python, the end range is not inclusive. So, in this case data for 2015 is not downloaded.\n",
        "    f = netCDF4.Dataset(f'precip.{yr}.nc', 'r')\n",
        "    print(yr)\n",
        "    z0 = np.mean(f.variables['precip'][:, :, :],0)\n",
        "    if yr == 1979:\n",
        "        lat = f.variables['lat'][:]\n",
        "        lon = f.variables['lon'][:]\n",
        "        z1 = z0\n",
        "    else:\n",
        "        z1 = np.dstack((z1, z0))\n",
        "        print(np.shape(z1))\n",
        "\n",
        "fig = plt.figure()  # Create a figure object\n",
        "z = np.mean(z1,2)\n",
        "plt.pcolormesh(lon, lat, z, vmin = 0, vmax = 10) # use cmap=plt.colormaps[‘colorname’] to define your preferred color\n",
        "plt.colorbar(orientation='horizontal',extend = 'both')\n",
        "plt.ylabel('Latitude')\n",
        "plt.xlabel('Longitude')\n",
        "# plt.xlim([233,295])\n",
        "# plt.ylim([25,50])\n",
        "plt.show()\n"
      ],
      "metadata": {
        "id": "gv6d-ncrLuR8"
      },
      "execution_count": null,
      "outputs": []
    },
    {
      "cell_type": "code",
      "source": [
        "# 13.c; calculate spatial average\n",
        "# print(lat)\n",
        "# print(lon)\n",
        "lat_id = np.where((lat > 40)*(lat < 45))\n",
        "print(lat_id)\n",
        "lon_id = np.where((lon > 250)*(lon < 260))\n",
        "print(lon_id)\n",
        "lat_id0 = lat_id[0][0]\n",
        "lat_id1 = lat_id[0][-1]\n",
        "lon_id0 = lat_id[0][0]\n",
        "lon_id1 = lat_id[0][-1]\n",
        "y = np.mean(z1[lat_id0:lat_id1+1, lon_id0:lon_id1+1, :],axis=(0, 1))\n",
        "print(y)"
      ],
      "metadata": {
        "id": "fuvlNefRM2r6"
      },
      "execution_count": null,
      "outputs": []
    },
    {
      "cell_type": "code",
      "source": [
        "# 13.d\n",
        "# plot PMF for the IPCC temperature anomalies\n",
        "num_bins = 10\n",
        "counts, bins = np.histogram(y, bins=num_bins)\n",
        "print(counts)\n",
        "bins = bins[:-1] + (bins[1] - bins[0])/2\n",
        "print(bins)\n",
        "probs = counts/float(counts.sum())\n",
        "print(probs)\n",
        "plt.bar(bins, probs, (max(y)-min(y))/num_bins)\n",
        "plt.xlabel('Temperature anomalies (deg C)')\n",
        "plt.ylabel('Probability')\n",
        "plt.title('PMF')\n",
        "\n",
        "# plot CDF for the IPCC temperature anomalies\n",
        "plt.figure()\n",
        "probs_cum = np.cumsum(counts)/float(counts.sum())\n",
        "print(probs_cum)\n",
        "plt.bar(bins, probs_cum, (max(y)-min(y))/num_bins)\n",
        "plt.xlabel('Temperature anomalies (deg C)')\n",
        "plt.ylabel('Probability')\n",
        "plt.title('CDF')\n",
        "plt.show()"
      ],
      "metadata": {
        "id": "GxvAz8coO4V7"
      },
      "execution_count": null,
      "outputs": []
    },
    {
      "cell_type": "code",
      "source": [
        "# randomly select a student presenter\n",
        "import random\n",
        "\n",
        "candidates = ['a','b']\n",
        "\n",
        "print(random.choice(candidates))\n",
        "#print(random.sample(candidates,8))"
      ],
      "metadata": {
        "id": "3v7IIWCqiryP"
      },
      "execution_count": null,
      "outputs": []
    }
  ]
}