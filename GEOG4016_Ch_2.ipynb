{
  "nbformat": 4,
  "nbformat_minor": 0,
  "metadata": {
    "colab": {
      "provenance": [],
      "authorship_tag": "ABX9TyNvckhaRTPg4G+RY0jWmsU9",
      "include_colab_link": true
    },
    "kernelspec": {
      "name": "python3",
      "display_name": "Python 3"
    },
    "language_info": {
      "name": "python"
    }
  },
  "cells": [
    {
      "cell_type": "markdown",
      "metadata": {
        "id": "view-in-github",
        "colab_type": "text"
      },
      "source": [
        "<a href=\"https://colab.research.google.com/github/huanping313/planets/blob/master/GEOG4016_Ch_2.ipynb\" target=\"_parent\"><img src=\"https://colab.research.google.com/assets/colab-badge.svg\" alt=\"Open In Colab\"/></a>"
      ]
    },
    {
      "cell_type": "markdown",
      "source": [
        "**Outline of the Colab file:**\n",
        "\n",
        "Chapter 1-3\n",
        "\n",
        "Chapter 4: Mathematical Operators\n",
        "\n",
        "Chapter 5: Structure and Control\n",
        "\n",
        "Chapter 6: File I/O\n",
        "\n",
        "Chapter 7: Numpy\n",
        "\n",
        "Chapter 8: Functions and modules"
      ],
      "metadata": {
        "id": "gUJrZrS03xEn"
      }
    },
    {
      "cell_type": "markdown",
      "source": [
        "# **Chapter 1-3**\n",
        "1.General syntax\n",
        "\n",
        "1.1 Code block and indentation.\n",
        "Indentation (2-4 spaces) plays a key role in delineating blocks of code. In the following if-statement, the colon : indicates that a code block follows."
      ],
      "metadata": {
        "id": "LT-9vwcWpnxf"
      }
    },
    {
      "cell_type": "code",
      "execution_count": null,
      "metadata": {
        "id": "BLGeNOD8o9ee"
      },
      "outputs": [],
      "source": [
        "i=1\n",
        "if i==1:\n",
        "  x = i+1\n",
        "  print(x)"
      ]
    },
    {
      "cell_type": "markdown",
      "source": [
        "1.2 Continuation of lines.\n",
        "Breaking long lines is easier for reading in python. The \\ symbol is used at the end of a code to indicate that the next line is a continuation, yiedling the same outputs in the next two sets of codes."
      ],
      "metadata": {
        "id": "9nM_rBMKpMM0"
      }
    },
    {
      "cell_type": "code",
      "source": [
        "y = 'This is a very long string that I want to split over multiple lines. It makes the python code more readable and easier to maintain. So breaking long string is always recommended!'\n",
        "print(y)"
      ],
      "metadata": {
        "id": "ZO1DZonXpKbZ"
      },
      "execution_count": null,
      "outputs": []
    },
    {
      "cell_type": "code",
      "source": [
        "z = 'This is a very long string that I want to split over multiple lines. \\\n",
        "It makes the python code more readable and easier to maintain. So breaking long string is always recommended!'\n",
        "print(z)"
      ],
      "metadata": {
        "id": "FHS9BsMksvxa"
      },
      "execution_count": null,
      "outputs": []
    },
    {
      "cell_type": "markdown",
      "source": [
        "How can you **print** a long string in multiple lines? (hint: use \\n when defining the string)\n",
        "\n",
        "What if we we want to split the long string **y** into 3 lines by period?"
      ],
      "metadata": {
        "id": "NeNHS4iZeo5G"
      }
    },
    {
      "cell_type": "code",
      "source": [
        "z2 = 'This is a very long string that I want to split over multiple lines. \\\n",
        "\\nIt makes the python code more readable and easier to maintain. So breaking long lines is always recommended!'\n",
        "print(z2)"
      ],
      "metadata": {
        "colab": {
          "base_uri": "https://localhost:8080/"
        },
        "id": "g2G3WfkGevLy",
        "outputId": "c858d671-3ee9-4051-90ff-62643b982268"
      },
      "execution_count": null,
      "outputs": [
        {
          "output_type": "stream",
          "name": "stdout",
          "text": [
            "This is a very long string that I want to split over multiple lines. \n",
            "It makes the python code more readable and easier to maintain. So breaking long lines is always recommended!\n"
          ]
        }
      ]
    },
    {
      "cell_type": "markdown",
      "source": [
        "Let's look at another example:"
      ],
      "metadata": {
        "id": "hvsH59y_FHeL"
      }
    },
    {
      "cell_type": "code",
      "source": [
        "n = 1 + 2 + 3 \\\n",
        "    + 4\n",
        "print(n)"
      ],
      "metadata": {
        "id": "FdygI8GJdK3L"
      },
      "execution_count": null,
      "outputs": []
    },
    {
      "cell_type": "markdown",
      "source": [
        "1.3 Comments: Any code between the # symbol and a new line is igored. Shortcut to add comment: pressing control(command)and / at the same time."
      ],
      "metadata": {
        "id": "XWWCYh6Eth8v"
      }
    },
    {
      "cell_type": "code",
      "source": [
        "# add up two numbers\n",
        "a = 2+3\n",
        "a = a+1\n",
        "print(a)"
      ],
      "metadata": {
        "id": "fwboxv62uQ3J"
      },
      "execution_count": null,
      "outputs": []
    },
    {
      "cell_type": "markdown",
      "source": [
        "2.String operation: concatenation, formatting, and indexing\n",
        "\n",
        "Strings can be concatenated (combined) by using the + operator."
      ],
      "metadata": {
        "id": "Ltp_Qy6UPSkB"
      }
    },
    {
      "cell_type": "code",
      "source": [
        "b = 'hot'+'dog'\n",
        "print(b)"
      ],
      "metadata": {
        "id": "8HTNigziUfcz"
      },
      "execution_count": null,
      "outputs": []
    },
    {
      "cell_type": "markdown",
      "source": [
        "Sometimes it is useful to convert one data type into another (i.e., casting). .format() is a powerful tool to make your strings look nice. In the following example, while ‘{0:f}’ sets up a string expecting a float, adding '.1' in front of f limits the amount of decimal places to 1. Similarly, ‘{0:d}’ sets up a string expecting an interger. See textbook page 37 for more formats.\n",
        "\n",
        "Q1: Can you append a unit (say cm) following the number?\n",
        "\n",
        "Q2: What if we want to print the integer part of a float number?"
      ],
      "metadata": {
        "id": "M_J7YZdEUc3O"
      }
    },
    {
      "cell_type": "code",
      "source": [
        "rain = 1.24403\n",
        "s = 'The amount of rain is {0:.1f}'.format(rain)\n",
        "print(s)\n",
        "# answer Q1 by modifying the next line\n",
        "s1 = 'The amount of rain is {0:.1f}'.format(rain)\n",
        "print(s1)\n",
        "# answer Q2 by modifying the next line\n",
        "s2 = 'The amount of rain is {0:.1f}'.format(rain)\n",
        "print(s2)"
      ],
      "metadata": {
        "id": "MOs0xq0vPYhc"
      },
      "execution_count": null,
      "outputs": []
    },
    {
      "cell_type": "markdown",
      "source": [
        "The element of a string can be accessed using index starting with 0. Slicing technique allows to access a range of characters in a string. Range of characters can be indicated by a start index number and an end index number in square brackets, i.e., **string[start, end]**. The start index number has always an inclusive bound and the end index number has always an exclusive bound. In other words, the start index number is included in the range and the end index number is not."
      ],
      "metadata": {
        "id": "RwBfSTAgROxJ"
      }
    },
    {
      "cell_type": "code",
      "source": [
        "b = \"hello\"\n",
        "print(b[0])\n",
        "print(b[0:2])\n",
        "print(b[:])"
      ],
      "metadata": {
        "id": "gK8z4sN2Jd2V"
      },
      "execution_count": null,
      "outputs": []
    },
    {
      "cell_type": "markdown",
      "source": [
        "**3.Data types**\n",
        "\n",
        "Variables can store different types of data. There are built-in data types in Python.\n",
        "\n",
        "Numeric Types: int, float, complex\n",
        "\n",
        "Text Type: string\n",
        "\n",
        "Boolean Type: bool\n",
        "\n",
        "Sequence Types: list, tuple, range\n",
        "\n",
        "Dictionary Type: dict\n",
        "\n",
        "None Type: NoneType\n"
      ],
      "metadata": {
        "id": "eEw9Bsid3tqh"
      }
    },
    {
      "cell_type": "code",
      "source": [
        "# Using type function: type() to determine an object's type\n",
        "\n",
        "myFirstVariable   = 23\n",
        "mySecondVariable  = 0.00036\n",
        "myThirdVariable   = \"b\"\n",
        "myFourthVariable   = \"Hello, World!\"\n",
        "myFifthVariable  = True\n",
        "\n",
        "mySixthVariable = (\"John\", \"Mikle\", \"Desbey\")\n",
        "mySeventhVariable   = [0, 1, 2, 3, 4, 5, 6, 7, 8, 9]\n",
        "myEighthVariable  = {\"Name\":\"John\", \"Age\":41, \"Occupation\":\"Doctor\"}\n",
        "\n",
        "myNinthVariable = None\n",
        "myTenthVariable  = range(0,12)\n",
        "\n",
        "print(type(myFirstVariable))\n",
        "print(type(mySecondVariable))\n",
        "print(type(myThirdVariable))\n",
        "print(type(myFourthVariable))\n",
        "print(type(myFifthVariable))\n",
        "print(type(mySixthVariable))\n",
        "print(type(mySeventhVariable))\n",
        "print(type(myEighthVariable))\n",
        "print(type(myNinthVariable))\n",
        "print(type(myTenthVariable))"
      ],
      "metadata": {
        "id": "WLmqmw3T32El"
      },
      "execution_count": null,
      "outputs": []
    },
    {
      "cell_type": "markdown",
      "source": [
        "**4.The range() object:**\n",
        "\n",
        "Syntax: **range(b, e, s)**\n",
        "Where b is the beginning integer, e is one larger than the last integer to be generated, and s is the stride (default value is 1)\n",
        "\n",
        "A range object is not an actual list. Instead, it’s an **iterator** that generates the next integer in the sequence on demand as needed.\n",
        "\n",
        "A range object can be converted to a list by using the list() function"
      ],
      "metadata": {
        "id": "yZtjjUoeXC0L"
      }
    },
    {
      "cell_type": "code",
      "source": [
        "range(0, 10)"
      ],
      "metadata": {
        "id": "xSj_PYGMXCZf"
      },
      "execution_count": null,
      "outputs": []
    },
    {
      "cell_type": "code",
      "source": [
        "list(range(0, 10))"
      ],
      "metadata": {
        "id": "URwIshLpXLei"
      },
      "execution_count": null,
      "outputs": []
    },
    {
      "cell_type": "code",
      "source": [
        "list(range(0, 10, 2))"
      ],
      "metadata": {
        "id": "FzMx-6BiXRMO"
      },
      "execution_count": null,
      "outputs": []
    },
    {
      "cell_type": "markdown",
      "source": [
        "**5.Composite data indexing & slicing**\n",
        "\n",
        "Indexing of composite data (such as list, tuple, and dictionary) is the same as for a string. The element of a variable can be accessed using index starting with 0. Syntax: **variable[index]**\n",
        "\n",
        "Slicing technique allows to access a range of composite data. Syntax: **variable[start, end]**"
      ],
      "metadata": {
        "id": "iV09Yyjxj_sh"
      }
    },
    {
      "cell_type": "code",
      "source": [
        "a = (0, 1, 2, 3, 4, 5)\n",
        "print(a[0])\n",
        "print(a[0:2])\n",
        "print(a[:])"
      ],
      "metadata": {
        "id": "9b286rHzkR_0"
      },
      "execution_count": null,
      "outputs": []
    },
    {
      "cell_type": "code",
      "source": [
        "a[0] = 9\n",
        "print(a)"
      ],
      "metadata": {
        "id": "YGegy9op2Xr-"
      },
      "execution_count": null,
      "outputs": []
    },
    {
      "cell_type": "code",
      "source": [
        "b = [0, 1, 2, 3, 4, 5]\n",
        "b[0] = 9\n",
        "print(b)"
      ],
      "metadata": {
        "id": "eHhO0Sg62OuW"
      },
      "execution_count": null,
      "outputs": []
    },
    {
      "cell_type": "markdown",
      "source": [
        "For dictionaries, you can use string index to extract specific data"
      ],
      "metadata": {
        "id": "uUV_gqAWLH1U"
      }
    },
    {
      "cell_type": "code",
      "source": [
        "c  = {\"Name\":\"John\", \"Age\":41, \"Occupation\":\"Doctor\"}\n",
        "print(c[\"Name\"])"
      ],
      "metadata": {
        "id": "XNsZKsEJK8VM"
      },
      "execution_count": null,
      "outputs": []
    },
    {
      "cell_type": "code",
      "source": [
        "# @title\n",
        "print(c[\"Name\"] + c[\"Age\"])"
      ],
      "metadata": {
        "id": "wBoqpA6-MzAU"
      },
      "execution_count": null,
      "outputs": []
    },
    {
      "cell_type": "markdown",
      "source": [
        "# **Chapter 4: Mathematical Operators**\n",
        "\n",
        "Arithmetic operators:\n",
        "\n",
        "Addition: x + y\n",
        "\n",
        "Subtraction: x - y\n",
        "\n",
        "Multiplication (single asterisk): x * y\n",
        "\n",
        "Exponentiation (double asterisk): x ** y\n",
        "\n",
        "Division: x / y\n",
        "\n",
        "Modulus: x % y (returns the remainder of a division)\n",
        "\n",
        "Floor division: x // y (rounds the result down to the nearest whole number)"
      ],
      "metadata": {
        "id": "rVH8nMeHhI9E"
      }
    },
    {
      "cell_type": "code",
      "source": [
        "print(3+2)\n",
        "print(3-2)\n",
        "print(3*2)\n",
        "print(3**2)\n",
        "print(3/2)\n",
        "print(3%2) # Could you try replacing 3 with 4 or 4.4?\n",
        "print(3//2) # Could you try replacing 3 with 4 or 4.4?"
      ],
      "metadata": {
        "id": "XL6kA-MohXel"
      },
      "execution_count": null,
      "outputs": []
    },
    {
      "cell_type": "markdown",
      "source": [
        "Augmented assignment: used as shorthand for replacing the contents of a variable with some operation on the originial variable (x in the following examples).\n",
        "\n",
        "Assignment operators: +=, -=, *=, /=, //=, %=, **=, :=\n",
        "\n",
        "x += y is equivalent to x = x + y\n",
        "\n",
        "x -= y is equivalent to x = x - y\n",
        "\n",
        "x *= y is equivalent to x = x * y\n",
        "\n",
        "x /= y is equivalent to x = x / y\n",
        "\n",
        "x %= y is equivalent to x = x % y\n",
        "\n",
        "x //= y is equivalent to x = x // y"
      ],
      "metadata": {
        "id": "dD1mDTVuj_rK"
      }
    },
    {
      "cell_type": "code",
      "source": [
        "a = 3\n",
        "a += 2 # Could you try other operators?\n",
        "print(a)"
      ],
      "metadata": {
        "id": "U3khYVoEkhiC"
      },
      "execution_count": null,
      "outputs": []
    },
    {
      "cell_type": "markdown",
      "source": [
        "Boolean operators (and, or, not) returns Boolean values of True or False."
      ],
      "metadata": {
        "id": "kmV1j173mKS6"
      }
    },
    {
      "cell_type": "code",
      "source": [
        "x, y , z = True, False, True\n",
        "print(x or y) # Could you try replacing y with z?\n",
        "print(x and y) # Could you try replacing y with z?\n",
        "print(not y) # Could you try replacing y with z?"
      ],
      "metadata": {
        "id": "wmv3JdjFmcc8"
      },
      "execution_count": null,
      "outputs": []
    },
    {
      "cell_type": "markdown",
      "source": [
        "Comparison operators:\n",
        "\n",
        "equal to: ==\n",
        "\n",
        "not equal to: !=\n",
        "\n",
        "less than: <\n",
        "\n",
        "greater than: >\n",
        "\n",
        "greater than or equal to: >=\n",
        "\n",
        "less than or equal to: <="
      ],
      "metadata": {
        "id": "W05nJMhVugcv"
      }
    },
    {
      "cell_type": "code",
      "source": [
        "2 == 3 # Could you try replacing == with other operators?"
      ],
      "metadata": {
        "id": "LFrOyk1YvDWN"
      },
      "execution_count": null,
      "outputs": []
    },
    {
      "cell_type": "markdown",
      "source": [
        "Chained comparison: Multiple objects can be compared with another using a chained comparison. It has the form: **a comp1 b comp2 c**, where comp1 and comp2 are comparison operators. It's equivalent to **(a comp1 b) and (b comp2 c)**."
      ],
      "metadata": {
        "id": "YtjM8UvDvf1L"
      }
    },
    {
      "cell_type": "code",
      "source": [
        "4 == 2*2 < 9 # Could you rewrite it to its complete form?"
      ],
      "metadata": {
        "id": "M4K412FNwJIj"
      },
      "execution_count": null,
      "outputs": []
    },
    {
      "cell_type": "code",
      "source": [
        "5 < 2 < 9"
      ],
      "metadata": {
        "id": "RRY7x86mwoJQ"
      },
      "execution_count": null,
      "outputs": []
    },
    {
      "cell_type": "markdown",
      "source": [
        "Built-in math functions:\n",
        "\n",
        "abs(x) returns the absolute value of real value x\n",
        "\n",
        "max(x,y[,z, ...]) returns the max value of the input list\n",
        "\n",
        "min(x,y[,z, ...]) returns the min value of the input list\n",
        "\n",
        "pow(x, y) is the same as x**y\n",
        "\n",
        "divmod(x, y) returns the tuple containing the truncated division x//y as the 1st element and the modulo x%y as the second element\n",
        "\n",
        "round(x) returns x rounded to the nearest integer. If the number to be rounded lies equally between two multiples, the number is rounded to the even multiple.\n",
        "\n",
        "\n",
        "\n"
      ],
      "metadata": {
        "id": "4JIgk7LEwxR2"
      }
    },
    {
      "cell_type": "code",
      "source": [
        "abs(-3)"
      ],
      "metadata": {
        "id": "LF2CR-iAyJZl"
      },
      "execution_count": null,
      "outputs": []
    },
    {
      "cell_type": "code",
      "source": [
        "max(3, 4, 5)"
      ],
      "metadata": {
        "id": "nJOsk480zHUy"
      },
      "execution_count": null,
      "outputs": []
    },
    {
      "cell_type": "code",
      "source": [
        "pow(3, 2)"
      ],
      "metadata": {
        "id": "oP7BDVTwzl7r"
      },
      "execution_count": null,
      "outputs": []
    },
    {
      "cell_type": "code",
      "source": [
        "divmod(5, 2)"
      ],
      "metadata": {
        "id": "C-ED4Ju-0Ofm",
        "colab": {
          "base_uri": "https://localhost:8080/"
        },
        "outputId": "f238dbd4-5ca1-4aae-b0c3-d4a5461e5a20"
      },
      "execution_count": null,
      "outputs": [
        {
          "output_type": "execute_result",
          "data": {
            "text/plain": [
              "(2, 1)"
            ]
          },
          "metadata": {},
          "execution_count": 2
        }
      ]
    },
    {
      "cell_type": "code",
      "source": [
        "round(4.1) # Could you try replacing 4.1 with 4.5 or 4.9?"
      ],
      "metadata": {
        "id": "WOMunLWDypmn"
      },
      "execution_count": null,
      "outputs": []
    },
    {
      "cell_type": "markdown",
      "source": [
        "# **Chapter 5: Structure and Control**"
      ],
      "metadata": {
        "id": "zl1ABGGLJokf"
      }
    },
    {
      "cell_type": "markdown",
      "source": [
        "1.Interactive user input from terminal\n",
        "\n",
        "syntax: s = input(prompt), where the input()function asks user to type  something after the prompt, s is a string variable that will hold the input"
      ],
      "metadata": {
        "id": "ocdvMaCNL7b4"
      }
    },
    {
      "cell_type": "code",
      "source": [
        "s = input('Enter data: ')\n",
        "print(s)"
      ],
      "metadata": {
        "id": "SyT5cxZhMKNI"
      },
      "execution_count": null,
      "outputs": []
    },
    {
      "cell_type": "markdown",
      "source": [
        "2.Conditional statements\n",
        "\n",
        "The if statements are used to check against some conditions along the code. There are three forms of the if statements in Python that can be used: if, if ... else, if ... elif ... else.\n",
        "\n",
        "Syntax #1:\n",
        "\n",
        "    if condition:\n",
        "        block of code\n",
        "Syntax #2:\n",
        "\n",
        "    if condition:\n",
        "        block of code\n",
        "    else:\n",
        "        block of code\n",
        "\n",
        "Syntax #3:\n",
        "\n",
        "    if condition:\n",
        "        block of code\n",
        "    elif condition:\n",
        "        block of code\n",
        "    ...\n",
        "    else:\n",
        "        block of code"
      ],
      "metadata": {
        "id": "potQv1WAydpW"
      }
    },
    {
      "cell_type": "code",
      "source": [
        "if True:\n",
        "    print (\"Hello, World!\")"
      ],
      "metadata": {
        "id": "-s6ynLbUzhlK"
      },
      "execution_count": null,
      "outputs": []
    },
    {
      "cell_type": "code",
      "source": [
        "a = 1 # Try replacing 1 with 0\n",
        "if a == 1:\n",
        "  print (\"I like coding!\")\n",
        "else:\n",
        "  print (\"I don't like coding!\")"
      ],
      "metadata": {
        "id": "DLiz63xlzkcH"
      },
      "execution_count": null,
      "outputs": []
    },
    {
      "cell_type": "code",
      "source": [
        "a = 1 # Try replacing 1 with 0 or 2\n",
        "if a == 1:\n",
        "  print (\"I like coding!\")\n",
        "elif a == 0:\n",
        "  print (\"I don't like coding!\")\n",
        "else:\n",
        "  print (\"I just like to eat!\")"
      ],
      "metadata": {
        "id": "9nKo-3et0Jb1"
      },
      "execution_count": null,
      "outputs": []
    },
    {
      "cell_type": "markdown",
      "source": [
        "Nested If ... statements"
      ],
      "metadata": {
        "id": "Z-9gShAR1tYg"
      }
    },
    {
      "cell_type": "code",
      "source": [
        "myFirstVariable  = 10 # Try replacing 10 with 20\n",
        "mySecondVariable = 20\n",
        "myThirdVariable  = 30\n",
        "\n",
        "if (myFirstVariable == 10):\n",
        "  print(\"My first variable is :\", myFirstVariable)\n",
        "  if (mySecondVariable == 20):\n",
        "    print(\"My second variable is :\", mySecondVariable)\n",
        "    if (myThirdVariable == 30):\n",
        "      print(\"My third variable is :\", myThirdVariable)"
      ],
      "metadata": {
        "id": "Hvg9WGIB1uyt"
      },
      "execution_count": null,
      "outputs": []
    },
    {
      "cell_type": "markdown",
      "source": [
        "Nested if ... else statements"
      ],
      "metadata": {
        "id": "cTUm6AoH19T5"
      }
    },
    {
      "cell_type": "code",
      "source": [
        "myFirstVariable  = 10 # Try replacing 10 with 20\n",
        "mySecondVariable = 30\n",
        "\n",
        "if (myFirstVariable == 10):\n",
        "  print(\"My first variable is :\", myFirstVariable)\n",
        "\n",
        "  if (mySecondVariable == 20):\n",
        "    print(\"My second variable is :\", mySecondVariable)\n",
        "\n",
        "  else:\n",
        "    print(\"My second variable is :\", mySecondVariable)"
      ],
      "metadata": {
        "id": "e8DbY58H11s2"
      },
      "execution_count": null,
      "outputs": []
    },
    {
      "cell_type": "code",
      "source": [
        "myFirstVariable  = \"a\" # Try replacing \"A\" with \"a\"\n",
        "mySecondVariable = \"B\"\n",
        "\n",
        "if (myFirstVariable == \"A\"):\n",
        "  print(\"My first variable is :\", myFirstVariable)\n",
        "\n",
        "  if (mySecondVariable == \"B\"):\n",
        "    print(\"My second variable is :\", mySecondVariable)\n",
        "\n",
        "  else:\n",
        "    print(\"My second variable is :\", mySecondVariable)\n",
        "\n",
        "else:\n",
        "  print(\"My first variable is :\", myFirstVariable)"
      ],
      "metadata": {
        "id": "ezJ8el402Jb9"
      },
      "execution_count": null,
      "outputs": []
    },
    {
      "cell_type": "markdown",
      "source": [
        "The single-line conditional statements\n",
        "\n",
        "syntax: [expression 1] if condition else [expression 2]\n",
        "\n",
        "[expression 1] will be run if condition is true; Otherwise, [expression 2] will be run."
      ],
      "metadata": {
        "id": "aGMWbxm1J2ov"
      }
    },
    {
      "cell_type": "code",
      "source": [
        "# Textbook example in section 5.3.2\n",
        "a = float(input('Enter number: '))\n",
        "x = a**2 if a >= 0 else a**3\n",
        "print(x)"
      ],
      "metadata": {
        "id": "odgG0N5AKClz"
      },
      "execution_count": null,
      "outputs": []
    },
    {
      "cell_type": "code",
      "source": [
        "# Textbook example in section 5.3.2\n",
        "a = float(input('Enter number: '))\n",
        "print(a**2) if a >= 0 else a**3"
      ],
      "metadata": {
        "id": "mx_PwqZHKVcR"
      },
      "execution_count": null,
      "outputs": []
    },
    {
      "cell_type": "code",
      "source": [
        "# Textbook example in section 5.3.3\n",
        "mylist = ['hi', 'bye']\n",
        "if mylist:\n",
        "    print('The list has {0:d} elements.'.format(len(mylist)))\n",
        "else:\n",
        "    print('The list is empty.')"
      ],
      "metadata": {
        "id": "mue-S-SFKZzn"
      },
      "execution_count": null,
      "outputs": []
    },
    {
      "cell_type": "code",
      "source": [
        "# Textbook example in section 5.3.3\n",
        "mylist = [] # What will happen if no string is included in the []?\n",
        "if mylist:\n",
        "    print('The list has {0:d} elements.'.format(len(mylist)))\n",
        "else:\n",
        "    print('The list is empty.')"
      ],
      "metadata": {
        "id": "W4TGXektLXNK"
      },
      "execution_count": null,
      "outputs": []
    },
    {
      "cell_type": "markdown",
      "source": [
        "3.While loops\n",
        "\n",
        "While loop executes a block of code as long as condition is True.\n",
        "\n",
        "Syntax:\n",
        "\n",
        "while condition:\n",
        "\n",
        "    [block of code]\n"
      ],
      "metadata": {
        "id": "nU7hdHrqStj5"
      }
    },
    {
      "cell_type": "code",
      "source": [
        "# While loop statement with comparison operator: <\n",
        "\n",
        "myFirstVariable = 5\n",
        "i = 0\n",
        "\n",
        "while i < myFirstVariable:\n",
        "  print(i)\n",
        "  i += 1"
      ],
      "metadata": {
        "id": "yjYGTDVpSvYl"
      },
      "execution_count": null,
      "outputs": []
    },
    {
      "cell_type": "code",
      "source": [
        "# Infinite while loop with print statement\n",
        "while True:\n",
        "  print(\"Infinite loop\")"
      ],
      "metadata": {
        "id": "LnIlZxDRTdDS"
      },
      "execution_count": null,
      "outputs": []
    },
    {
      "cell_type": "code",
      "source": [
        "# Nested while loops\n",
        "\n",
        "myFirstVariable = 5\n",
        "i, j = 0, 0\n",
        "\n",
        "while i < 5:\n",
        "  print(i)\n",
        "  i += 1\n",
        "  while j < 5:\n",
        "    print(j)\n",
        "    j += 1"
      ],
      "metadata": {
        "id": "PaRfWBXRZEmY"
      },
      "execution_count": null,
      "outputs": []
    },
    {
      "cell_type": "markdown",
      "source": [
        "4.For loops\n",
        "\n",
        "A basic for loop requires an iterable object, such as a list, tuple, string, etc. The general syntax:\n",
        "\n",
        "for var in IterableObject:\n",
        "\n",
        "    \n",
        "\n",
        "> [block of code]\n",
        "\n",
        "\n",
        "\n",
        "var holds the value of the current element of IterableObject."
      ],
      "metadata": {
        "id": "WXtx1owhFUeN"
      }
    },
    {
      "cell_type": "code",
      "source": [
        "for n in range(1, 6):\n",
        "  print(n)"
      ],
      "metadata": {
        "id": "U79OtWXRFt93"
      },
      "execution_count": null,
      "outputs": []
    },
    {
      "cell_type": "markdown",
      "source": [
        "If your for loop is one line and you are using a list, you can use something called a list comprehension.\n",
        "\n",
        "syntax: newlist = [{operation on element] for element in IterableObject"
      ],
      "metadata": {
        "id": "sLhadKr9JNGy"
      }
    },
    {
      "cell_type": "code",
      "source": [
        "# print file names without the extension .txt\n",
        "fnames = ['good.txt', 'bad.txt', 'nice.txt']\n",
        "bases = [f[0:-4] for f in fnames]\n",
        "bases"
      ],
      "metadata": {
        "id": "SB-NmrzWJN2V"
      },
      "execution_count": null,
      "outputs": []
    },
    {
      "cell_type": "code",
      "source": [
        "# Nested for loop\n",
        "\n",
        "myFirstList    = [ 1, 2, 3 ]\n",
        "mySecondList   = [ 1, 2, 3 ]\n",
        "\n",
        "for i in myFirstList:\n",
        "  for j in mySecondList:\n",
        "    print(str(i),str(j),\" \")"
      ],
      "metadata": {
        "id": "cO_quzr-Vp1-"
      },
      "execution_count": null,
      "outputs": []
    },
    {
      "cell_type": "markdown",
      "source": [
        "5.Break statement breaks out of the loops immediately. Continue statement proceeds with execution of the loops."
      ],
      "metadata": {
        "id": "Kjckl-qoUxGJ"
      }
    },
    {
      "cell_type": "code",
      "source": [
        "# For loop with the break statement\n",
        "\n",
        "myFirstList = [ 1, 2, 3, 4, 5]\n",
        "\n",
        "for i in myFirstList:\n",
        "  if i == 3:\n",
        "    break\n",
        "  print(\"i = \", i)"
      ],
      "metadata": {
        "id": "qtPG6Gh1Uzfr",
        "colab": {
          "base_uri": "https://localhost:8080/"
        },
        "outputId": "c990709c-1523-4711-d781-e04a8d5ff4d3"
      },
      "execution_count": null,
      "outputs": [
        {
          "output_type": "stream",
          "name": "stdout",
          "text": [
            "i =  1\n",
            "i =  2\n"
          ]
        }
      ]
    },
    {
      "cell_type": "code",
      "source": [
        "# For loop with the continue statement\n",
        "\n",
        "myFirstList = [ 1, 2, 3, 4, 5]\n",
        "\n",
        "for i in myFirstList:\n",
        "  if i == 3:\n",
        "    continue\n",
        "  print(\"i = \", i)"
      ],
      "metadata": {
        "id": "AaaiSx11W4Gk"
      },
      "execution_count": null,
      "outputs": []
    },
    {
      "cell_type": "code",
      "source": [
        "# Nested for loop with innermost break statement\n",
        "\n",
        "myFirstList    = [ 1, 2, 3 ]\n",
        "mySecondList   = [ 1, 2, 3 ]\n",
        "\n",
        "for i in myFirstList:\n",
        "  for j in mySecondList:\n",
        "    if j == 2:\n",
        "      break\n",
        "    print(str(i),str(j),\" \")"
      ],
      "metadata": {
        "id": "SR4WASr5WKCM"
      },
      "execution_count": null,
      "outputs": []
    },
    {
      "cell_type": "code",
      "source": [
        "# Nested for loop with innermost continue statement\n",
        "\n",
        "myFirstList    = [ 1, 2, 3 ]\n",
        "mySecondList   = [ 1, 2, 3 ]\n",
        "\n",
        "for i in myFirstList:\n",
        "  for j in mySecondList:\n",
        "    if j == 2:\n",
        "      continue\n",
        "    print(str(i),str(j),\" \")"
      ],
      "metadata": {
        "id": "KBDtj4uuU5hv"
      },
      "execution_count": null,
      "outputs": []
    },
    {
      "cell_type": "code",
      "source": [
        "# Nested for loop with outer break statement\n",
        "\n",
        "myFirstList    = [ 1, 2, 3 ]\n",
        "mySecondList   = [ 1, 2, 3 ]\n",
        "\n",
        "for i in myFirstList:\n",
        "  if i == 2:\n",
        "      break\n",
        "  for j in mySecondList:\n",
        "    print (str(i),str(j),\" \")"
      ],
      "metadata": {
        "id": "HGJTQ_98Xw1q"
      },
      "execution_count": null,
      "outputs": []
    },
    {
      "cell_type": "code",
      "source": [
        "# While loop statement with if comparison operator ( < ) and break statement\n",
        "\n",
        "myFirstVariable = 5\n",
        "i = 0\n",
        "\n",
        "while i < 5:\n",
        "  print(i)\n",
        "  if i == 3:\n",
        "    break     # stops the loop even with the while condition is being true\n",
        "  i += 1"
      ],
      "metadata": {
        "id": "wz2hB4FcYysL"
      },
      "execution_count": null,
      "outputs": []
    },
    {
      "cell_type": "code",
      "source": [
        "# While loop statement with if comparison operator ( < ) and continue statement\n",
        "\n",
        "myFirstVariable = 5\n",
        "i = 0\n",
        "\n",
        "while i < 5:\n",
        "  i += 1\n",
        "  if i == 3:\n",
        "    continue\n",
        "  print(i)"
      ],
      "metadata": {
        "id": "WTsczuU3Y0IM"
      },
      "execution_count": null,
      "outputs": []
    },
    {
      "cell_type": "markdown",
      "source": [
        "6.The pass statement"
      ],
      "metadata": {
        "id": "unFkJPDnfhtO"
      }
    },
    {
      "cell_type": "code",
      "source": [
        "# Enter -2, 0, or 2 to test the outcomes\n",
        "a = int(input('Enter integer: '))\n",
        "if a < 0:\n",
        "    print(a)\n",
        "elif a == 0:\n",
        "    pass\n",
        "else:\n",
        "    print(a**2)"
      ],
      "metadata": {
        "id": "5Zud04Yqfn07"
      },
      "execution_count": null,
      "outputs": []
    },
    {
      "cell_type": "code",
      "source": [
        "# For loop with the pass statement\n",
        "\n",
        "myFirstList = [ 1, 2, 3, 4, 5, 6, 7, 8, 9 ]\n",
        "\n",
        "for i in myFirstList:\n",
        "  if i % 2 == 0:\n",
        "    pass\n",
        "  else:\n",
        "    print(str(i),\" \")"
      ],
      "metadata": {
        "id": "ESVamzQCge4R"
      },
      "execution_count": null,
      "outputs": []
    },
    {
      "cell_type": "markdown",
      "source": [
        "# **Chapter 6: File input/output (I/O)**"
      ],
      "metadata": {
        "id": "OKI1XM__tDy9"
      }
    },
    {
      "cell_type": "code",
      "source": [
        "# Download the .txt file from Moodle and then upload it to the Colab drive\n",
        "f = open('datafile.txt', 'r')\n",
        "print(f.__next__())\n",
        "f.close()"
      ],
      "metadata": {
        "id": "UknWZrjTwWZ7"
      },
      "execution_count": null,
      "outputs": []
    },
    {
      "cell_type": "code",
      "source": [
        "f = open('datafile.txt', 'r')\n",
        "print(f.__next__())\n",
        "print(f.__next__()) # what happen if we repeat this line again?\n",
        "f.close()"
      ],
      "metadata": {
        "id": "PM_Q3E96ws8m"
      },
      "execution_count": null,
      "outputs": []
    },
    {
      "cell_type": "code",
      "source": [
        "f = open('datafile.txt', 'r')\n",
        "print(f.readline()) # what happen if we repeat this line again?\n",
        "f.close()"
      ],
      "metadata": {
        "id": "Q5WlqqATxEnE"
      },
      "execution_count": null,
      "outputs": []
    },
    {
      "cell_type": "markdown",
      "source": [
        "looping over files: Since files are iterable they can be used in a for loop construction."
      ],
      "metadata": {
        "id": "eAo3SZ564q8c"
      }
    },
    {
      "cell_type": "code",
      "source": [
        "# 6.3.2\n",
        "with open('datafile.txt', 'r') as f:\n",
        "    for line in f:\n",
        "        print(line)"
      ],
      "metadata": {
        "id": "1z9d8FyStGBM"
      },
      "execution_count": null,
      "outputs": []
    },
    {
      "cell_type": "markdown",
      "source": [
        "Reading an entire file into a list: The readlines() method returns the contents of a file as a list, with each line as an element of the list."
      ],
      "metadata": {
        "id": "eHSh6EtY5LPZ"
      }
    },
    {
      "cell_type": "code",
      "source": [
        "# 6.3.3\n",
        "with open('datafile.txt', 'r') as f:\n",
        "    data = f.readlines()\n",
        "print(data)"
      ],
      "metadata": {
        "id": "jzYlmw7zxigH"
      },
      "execution_count": null,
      "outputs": []
    },
    {
      "cell_type": "markdown",
      "source": [
        "\n",
        "Writing text to files: Individual lines of text can be written to a file using the write() method or the print() function.\n",
        "\n",
        "The write() method requires the newline character (\\n) to be explicitly included, but the print() function doesn’t require it because it’s automatically added at the end of the printed item.\n",
        "\n",
        "\n"
      ],
      "metadata": {
        "id": "xuQFOVFr7aC8"
      }
    },
    {
      "cell_type": "code",
      "source": [
        "# 6.4.1; find the .txt file in the 'content' folder under the Colab drive\n",
        "with open('myfile.txt', 'w') as f:\n",
        "    print('Now is the time', file=f)\n",
        "    print('for all good men', file=f)\n",
        "    print('to come to the aid', file=f)\n",
        "    print('of their country.', file=f)"
      ],
      "metadata": {
        "id": "YaiBPZ-N7cNg"
      },
      "execution_count": null,
      "outputs": []
    },
    {
      "cell_type": "code",
      "source": [
        "# What are the differences between the following and previous codes?\n",
        "with open('myfile1.txt', 'w') as f:\n",
        "    f.write('Now is the time\\n')\n",
        "    f.write('for all good men\\n')\n",
        "    f.write('to come to the aid\\n')\n",
        "    f.write('of their country.')"
      ],
      "metadata": {
        "id": "joh3fBDF7a2q"
      },
      "execution_count": null,
      "outputs": []
    },
    {
      "cell_type": "markdown",
      "source": [
        "Use the writelines() method (note plural) to write a list of strings to a file, with each element written to a separate line. Note that the newline character (\\n) should be explicitly included to write on a new line."
      ],
      "metadata": {
        "id": "Op1RN-us_KUY"
      }
    },
    {
      "cell_type": "code",
      "source": [
        "# What are the differences between the following and previous codes?\n",
        "s = ['Now is the time\\n','for all good men\\n', \\\n",
        "     'to come to the aid\\n','of their country.']\n",
        "with open('myfile2.txt', 'w') as f:\n",
        "    f.writelines(s)"
      ],
      "metadata": {
        "id": "lmkpwWld9xPF"
      },
      "execution_count": null,
      "outputs": []
    },
    {
      "cell_type": "markdown",
      "source": [
        "•The csv module can read and write text files that contain a regular number of data values. The values are separated by commas, colons, whitespace, or some other delimiter.\n",
        "\n",
        "•How to read delimited files?\n",
        "\n",
        "-Import the csv module\n",
        "\n",
        "-Open the data file for reading\n",
        "\n",
        "-Create a csv.reader object by calling the reader() function of the csv module\n",
        "\n",
        "-Since a csv.reader object is an iterable object, we can use the _ _next_ _ method or a loop structure to read individual lines of data.\n"
      ],
      "metadata": {
        "id": "J-61ys4hOUGT"
      }
    },
    {
      "cell_type": "code",
      "source": [
        "# 6.5.1; # Download the .csv file from Moodle and then upload it to the Colab drive\n",
        "import csv\n",
        "with open('datafile.csv', 'r') as f:\n",
        "    r = csv.reader(f, delimiter=',')\n",
        "    for i, data in enumerate(r):\n",
        "        if i == 0:  # Skips header row\n",
        "            pass\n",
        "        else:\n",
        "            lbs = float(data[4])\n",
        "            inch = float(data[3])\n",
        "            bmi = 703.0*lbs/inch**2\n",
        "            print(data[0], round(bmi,1))"
      ],
      "metadata": {
        "id": "My1GgflAHq3B"
      },
      "execution_count": null,
      "outputs": []
    },
    {
      "cell_type": "markdown",
      "source": [
        "•Delimited files can be written by first creating a csv.writer object.\n",
        "\n",
        "•The csv.writer object has two methods for writing data to the file\n",
        "\n",
        "writerow(ls) writes the 1-D list, ls, to a single row of the file. Each element is separated by the delimiter.\n",
        "\n",
        "writerows(ls) writes the 2-D list, ls, to the file. Each element of the list is on a row, and its subelements are separated by the delimiter."
      ],
      "metadata": {
        "id": "Y4cQFqUcN-mS"
      }
    },
    {
      "cell_type": "code",
      "source": [
        "# 6.5.2; After running the codes, find the .txt file in the 'content' folder under the Colab drive\n",
        "head = ['City', 'County', 'Population']\n",
        "data = [['Layton', 'Davis', 77303],\n",
        "        ['Ogden', 'Weber', 88825],\n",
        "        ['Toole', 'Toole', 31605]]\n",
        "import csv\n",
        "filename = 'cities.txt'\n",
        "with open(filename, 'w') as fout:\n",
        "    w = csv.writer(fout, delimiter=';')\n",
        "    w.writerow(head)\n",
        "    w.writerows(data)"
      ],
      "metadata": {
        "id": "vDPOyoupHsa8"
      },
      "execution_count": null,
      "outputs": []
    },
    {
      "cell_type": "markdown",
      "source": [
        "The os.path module:\n",
        "\n",
        "\n",
        "*   Working with Path and File names\n",
        "*   Checking for the existence of specific paths, files, and directories\n",
        "\n",
        "\n",
        "\n"
      ],
      "metadata": {
        "id": "sFo6nS-6aEfd"
      }
    },
    {
      "cell_type": "code",
      "source": [
        "# Open Anaconda and create a new Jupyter notebook (locally hosted on your machince, NOT Google servers)\n",
        "import os.path as pth\n",
        "p = '/Users/HuanpingHuang_1/Downloads/ida.png' # define your own path name\n",
        "print(pth.abspath(p)) # returns absolute path (=directory+base)\n",
        "print(pth.dirname(p)) # returns the directory name of the path\n",
        "print(pth.basename(p)) # returns the base name of the path\n",
        "print(pth.split(p)) # returns a tuple with the directory and base path as its two elements\n",
        "print(pth.exists(p)) # returns True if p exists as an actual path\n",
        "print(pth.isfile(p)) # returns True if p is an existing file\n",
        "print(pth.isdir(p)) # returns True if p is an existing directory"
      ],
      "metadata": {
        "id": "wjYTYUnPaFX1"
      },
      "execution_count": null,
      "outputs": []
    },
    {
      "cell_type": "code",
      "source": [
        "# 6.5.2; Copy the codes to your newly created Jupyter notebook and then run the code. Do you produce a new .txt file under the same directory as your Jupyter notebook?\n",
        "head = ['City', 'County', 'Population']\n",
        "data = [['Layton', 'Davis', 77303],\n",
        "        ['Ogden', 'Weber', 88825],\n",
        "        ['Toole', 'Toole', 31605]]\n",
        "import csv\n",
        "filename = 'cities.txt'\n",
        "with open(filename, 'w') as fout:\n",
        "    w = csv.writer(fout, delimiter=';')\n",
        "    w.writerow(head)\n",
        "    w.writerows(data)"
      ],
      "metadata": {
        "id": "_czAvp39k7mH"
      },
      "execution_count": null,
      "outputs": []
    },
    {
      "cell_type": "markdown",
      "source": [
        "# **Chapter 7: Numpy**\n",
        "\n",
        "Numpy, short for “Numerical Python”, is the fundamental package for scientific computing with Python.\n",
        "\n",
        "To use its functionality, we must first “import numpy”\n"
      ],
      "metadata": {
        "id": "Ze45XAcolpU0"
      }
    },
    {
      "cell_type": "code",
      "source": [
        "import numpy as np\n",
        "a = [1, 2, 3, 4, 5]\n",
        "print(np.mean(a))"
      ],
      "metadata": {
        "colab": {
          "base_uri": "https://localhost:8080/"
        },
        "id": "Mc84NtjhmSdU",
        "outputId": "cd942a70-f162-4eab-dc1b-0d7937f376d9"
      },
      "execution_count": null,
      "outputs": [
        {
          "output_type": "stream",
          "name": "stdout",
          "text": [
            "3.0\n"
          ]
        }
      ]
    },
    {
      "cell_type": "code",
      "source": [
        "import numpy as np\n",
        "a = [1, 2, 3, 4, 5]\n",
        "b = np.array(a) # convert a python list to a Numpy array\n",
        "print(type(a))\n",
        "print(type(b))\n",
        "print(np.mean(b))"
      ],
      "metadata": {
        "id": "eRx1Qr2fnJwr"
      },
      "execution_count": null,
      "outputs": []
    },
    {
      "cell_type": "code",
      "source": [
        "# NumPy arrays are fixed-type (homogenous), i.e., ONE defined data type! (Unlike lists!)\n",
        "\n",
        "# Return the dtype (data type) of array:\n",
        "myAry = np.array([1, 4, 9, 16])\n",
        "#myAry = np.array([1., 4., 9., 16.])\n",
        "#myAry = np.array([\"1\", \"4\", \"9\", \"16\"])\n",
        "print(\"myAry = \", myAry)\n",
        "print(\"Data type is: \", myAry.dtype)\n",
        "\n",
        "# What if different data types are mixed within an array (inhomogeneous)?"
      ],
      "metadata": {
        "id": "TlSyPf-QnIER"
      },
      "execution_count": null,
      "outputs": []
    },
    {
      "cell_type": "code",
      "source": [
        "# other common functions\n",
        "print(np.max(b))\n",
        "print(np.min(b))\n",
        "print(np.std(b))"
      ],
      "metadata": {
        "id": "5qGIylayncsI"
      },
      "execution_count": null,
      "outputs": []
    },
    {
      "cell_type": "markdown",
      "source": [
        "The numpy.zeros(shape, dtype) function returns a new array of given shape and type, filled with zeros.\n",
        "\n",
        "Parameters:\n",
        "\n",
        "shape: Shape of the new array, int or tuple of ints, e.g., (2, 3) or 2.\n",
        "\n",
        "dtype: The desired data-type for the array (optional), e.g., numpy.int8. Default is numpy.float64."
      ],
      "metadata": {
        "id": "4RkMFoSFo2Jm"
      }
    },
    {
      "cell_type": "code",
      "source": [
        "print(np.zeros((2, 3))) # What if only an interger 2 is included within np.zeros()?"
      ],
      "metadata": {
        "id": "MAeYKKQQpWbx"
      },
      "execution_count": null,
      "outputs": []
    },
    {
      "cell_type": "markdown",
      "source": [
        "numpy.arange(start, stop, step) returns evenly spaced values within a given interval [start, stop] with a step. Note that stop is not included in the outputs."
      ],
      "metadata": {
        "id": "Lt9Fc_8UuvID"
      }
    },
    {
      "cell_type": "code",
      "source": [
        "np.arange(1, 5, 1)"
      ],
      "metadata": {
        "colab": {
          "base_uri": "https://localhost:8080/"
        },
        "id": "Glm-jOhqvOsd",
        "outputId": "9b8e2a1d-053a-4e62-8dd2-db03605b1f7e"
      },
      "execution_count": null,
      "outputs": [
        {
          "output_type": "execute_result",
          "data": {
            "text/plain": [
              "array([1, 2, 3, 4])"
            ]
          },
          "metadata": {},
          "execution_count": 3
        }
      ]
    },
    {
      "cell_type": "markdown",
      "source": [
        "numpy.linspace(start, stop, num=x, endpoint=True) returns x evenly spaced samples, calculated over the interval [start, stop].\n",
        "\n",
        "The endpoint of the interval can optionally be excluded by specifying \"endpoint=False\" (default is True)."
      ],
      "metadata": {
        "id": "cfYKQ7HprzgP"
      }
    },
    {
      "cell_type": "code",
      "source": [
        "np.linspace(1, 5, num=5, endpoint=True) # what if endpoint=False? How about removing endpoint=True?"
      ],
      "metadata": {
        "colab": {
          "base_uri": "https://localhost:8080/"
        },
        "id": "rcQEjL6JsdTG",
        "outputId": "0df3c8f1-0aa4-4a50-8a60-fffc2abf8c0c"
      },
      "execution_count": null,
      "outputs": [
        {
          "output_type": "execute_result",
          "data": {
            "text/plain": [
              "array([1., 2., 3., 4., 5.])"
            ]
          },
          "metadata": {},
          "execution_count": 4
        }
      ]
    },
    {
      "cell_type": "markdown",
      "source": [
        "Array indexing:\n"
      ],
      "metadata": {
        "id": "QgcADUCi0108"
      }
    },
    {
      "cell_type": "code",
      "source": [
        "# One-dimensional array\n",
        "myAry = np.arange(5)\n",
        "print(\"myAry = \", myAry)\n",
        "print(\"myAry[0] = \", myAry[0])\n",
        "print(\"myAry[-1] = \", myAry[-1])"
      ],
      "metadata": {
        "id": "TN-QyxPQ05W4"
      },
      "execution_count": null,
      "outputs": []
    },
    {
      "cell_type": "code",
      "source": [
        "# Multi-dimensional array\n",
        "\n",
        "myAry = np.array([[1, 4, 9, 10],\n",
        "                  [0, 8, 7, 3],\n",
        "                  [5, 6, 2, 11]], dtype=\"float\")\n",
        "print(\"myAry = \\n\", myAry)   # \\n creates a new line\n",
        "\n",
        "print(\"\\nmyAry[2,1] = \", myAry[2,1])\n",
        "\n",
        "myAry[0,3] *= -1\n",
        "print(\"\\nmyAry now is: \\n\", myAry)"
      ],
      "metadata": {
        "id": "7b054i7d1KFD"
      },
      "execution_count": null,
      "outputs": []
    },
    {
      "cell_type": "markdown",
      "source": [
        "Array slicing:"
      ],
      "metadata": {
        "id": "YoLpZLhG2z0A"
      }
    },
    {
      "cell_type": "code",
      "source": [
        "# One-dimensional array slicing\n",
        "myAry = np.arange(10)\n",
        "print(\"myAry = \\t\", myAry)\n",
        "\n",
        "print(\"myAry[2:7] = \\t\", myAry[2:7])      # From index 2 to 7 (endpoint not included)\n",
        "print(\"myAry[2:] = \\t\", myAry[2:])        # From index 2 to the end\n",
        "print(\"myAry[:7] = \\t\", myAry[:7])        # From the beginning to index 7\n",
        "print(\"myAry[2:7:2] = \\t\", myAry[2:7:2])  # From index 2 to 7, step length 2\n",
        "print(\"myAry[-5:-2] = \\t\", myAry[-5:-2])  # From index -5 (5th to last) to -2\n",
        "print(\"myAry[:] = \\t\", myAry[:])          # The entire array"
      ],
      "metadata": {
        "id": "0-8jQkmS1tWW"
      },
      "execution_count": null,
      "outputs": []
    },
    {
      "cell_type": "code",
      "source": [
        "# Multi-dimensional array slicing\n",
        "myAry = np.array([[0, 1, 2, 3],\n",
        "                  [4, 5, 6, 7],\n",
        "                  [8, 9, 10, 11],\n",
        "                  [12, 13, 14, 15]])\n",
        "print(\"myAry = \\n\", myAry)\n",
        "\n",
        "print(\"\\nmyAry[1, 1:3] = \\n\", myAry[1, 1:3])      # Fix the first index, slicing the second\n",
        "print(\"\\nmyAry[1,:] = \\n\", myAry[1,:])            # Fix first index, return the entire second index\n",
        "print(\"\\nmyAry[:,2] = \\n\", myAry[:,2])            # Fix second index, return the entire first index\n",
        "print(\"\\nmyAry[1::2, 2] = \\n\", myAry[1::2, 2])    # Fix the second index, slicing the first\n",
        "print(\"\\nmyAry[:, ::3] = \\n\", myAry[:, ::3])      # Return the entire first index, slicing the second\n",
        "print(\"\\nmyAry[:,:] = \\n\", myAry[:,:])            # Return the entire array"
      ],
      "metadata": {
        "id": "daKgOnXC2Bes"
      },
      "execution_count": null,
      "outputs": []
    },
    {
      "cell_type": "markdown",
      "source": [
        "Advanced Array Operations\n",
        "\n",
        "Example 1: Add 5 to each element of an integer array of size 100"
      ],
      "metadata": {
        "id": "G9oxLfRX5DS_"
      }
    },
    {
      "cell_type": "code",
      "source": [
        "# How to do that with Python lists?\n",
        "\n",
        "myList1 = list(range(100))\n",
        "print(\"myList1: \\n\", myList1)\n",
        "myList2 = [val+5 for val in myList1] # calculation with for loops\n",
        "print(\"myList2: \\n\", myList2)"
      ],
      "metadata": {
        "colab": {
          "base_uri": "https://localhost:8080/"
        },
        "id": "G_klINMC5ErL",
        "outputId": "1d3c5793-70ef-4c42-ce54-ccc729d69564"
      },
      "execution_count": null,
      "outputs": [
        {
          "output_type": "stream",
          "name": "stdout",
          "text": [
            "myList1: \n",
            " [0, 1, 2, 3, 4, 5, 6, 7, 8, 9, 10, 11, 12, 13, 14, 15, 16, 17, 18, 19, 20, 21, 22, 23, 24, 25, 26, 27, 28, 29, 30, 31, 32, 33, 34, 35, 36, 37, 38, 39, 40, 41, 42, 43, 44, 45, 46, 47, 48, 49, 50, 51, 52, 53, 54, 55, 56, 57, 58, 59, 60, 61, 62, 63, 64, 65, 66, 67, 68, 69, 70, 71, 72, 73, 74, 75, 76, 77, 78, 79, 80, 81, 82, 83, 84, 85, 86, 87, 88, 89, 90, 91, 92, 93, 94, 95, 96, 97, 98, 99]\n",
            "myList2: \n",
            " [5, 6, 7, 8, 9, 10, 11, 12, 13, 14, 15, 16, 17, 18, 19, 20, 21, 22, 23, 24, 25, 26, 27, 28, 29, 30, 31, 32, 33, 34, 35, 36, 37, 38, 39, 40, 41, 42, 43, 44, 45, 46, 47, 48, 49, 50, 51, 52, 53, 54, 55, 56, 57, 58, 59, 60, 61, 62, 63, 64, 65, 66, 67, 68, 69, 70, 71, 72, 73, 74, 75, 76, 77, 78, 79, 80, 81, 82, 83, 84, 85, 86, 87, 88, 89, 90, 91, 92, 93, 94, 95, 96, 97, 98, 99, 100, 101, 102, 103, 104]\n"
          ]
        }
      ]
    },
    {
      "cell_type": "code",
      "source": [
        "# How to do that with NumPy arrays?\n",
        "\n",
        "myAry1 = np.arange(100)\n",
        "print(\"myAry1: \\n\", myAry1)\n",
        "myAry2 = myAry1 + 5 # calculation with +\n",
        "print(\"myAry2: \\n\", myAry2)"
      ],
      "metadata": {
        "colab": {
          "base_uri": "https://localhost:8080/"
        },
        "id": "h-_dPZc25inn",
        "outputId": "0f5519fc-854c-4abd-8243-c24fe5f3fc4e"
      },
      "execution_count": null,
      "outputs": [
        {
          "output_type": "stream",
          "name": "stdout",
          "text": [
            "myAry1: \n",
            " [ 0  1  2  3  4  5  6  7  8  9 10 11 12 13 14 15 16 17 18 19 20 21 22 23\n",
            " 24 25 26 27 28 29 30 31 32 33 34 35 36 37 38 39 40 41 42 43 44 45 46 47\n",
            " 48 49 50 51 52 53 54 55 56 57 58 59 60 61 62 63 64 65 66 67 68 69 70 71\n",
            " 72 73 74 75 76 77 78 79 80 81 82 83 84 85 86 87 88 89 90 91 92 93 94 95\n",
            " 96 97 98 99]\n",
            "myAry2: \n",
            " [  5   6   7   8   9  10  11  12  13  14  15  16  17  18  19  20  21  22\n",
            "  23  24  25  26  27  28  29  30  31  32  33  34  35  36  37  38  39  40\n",
            "  41  42  43  44  45  46  47  48  49  50  51  52  53  54  55  56  57  58\n",
            "  59  60  61  62  63  64  65  66  67  68  69  70  71  72  73  74  75  76\n",
            "  77  78  79  80  81  82  83  84  85  86  87  88  89  90  91  92  93  94\n",
            "  95  96  97  98  99 100 101 102 103 104]\n"
          ]
        }
      ]
    },
    {
      "cell_type": "markdown",
      "source": [
        "Example 2: Multiply each element of an integer list/array by 10"
      ],
      "metadata": {
        "id": "RZV0OIvS7RA-"
      }
    },
    {
      "cell_type": "code",
      "source": [
        "# How to do that with Python lists?\n",
        "a = [[1, 2, 3, 4, 5], [1, 2, 3, 4, 5]]\n",
        "print(\"Before multiplying: \\n\",a)\n",
        "\n",
        "for i in range(2):\n",
        "  for j in range(5):\n",
        "    a[i][j] = a[i][j]*10\n",
        "print(\"After multiplying: \\n\", a)"
      ],
      "metadata": {
        "colab": {
          "base_uri": "https://localhost:8080/"
        },
        "id": "1EvB7Uzl7Sd1",
        "outputId": "f1999caa-9f55-401d-fbca-33016b80302c"
      },
      "execution_count": null,
      "outputs": [
        {
          "output_type": "stream",
          "name": "stdout",
          "text": [
            "Before multiplying: \n",
            " [[1, 2, 3, 4, 5], [1, 2, 3, 4, 5]]\n",
            "After multiplying: \n",
            " [[10, 20, 30, 40, 50], [10, 20, 30, 40, 50]]\n"
          ]
        }
      ]
    },
    {
      "cell_type": "code",
      "source": [
        "# How to do that with NumPy arrays?\n",
        "a = [[1, 2, 3, 4, 5], [1, 2, 3, 4, 5]]\n",
        "a_n = np.array(a)\n",
        "print(\"Before multiplying: \\n\",a_n)\n",
        "\n",
        "a_n = a_n*10\n",
        "print(\"After multiplying: \\n\", a_n)"
      ],
      "metadata": {
        "id": "t4ktPB3s8OZG"
      },
      "execution_count": null,
      "outputs": []
    },
    {
      "cell_type": "markdown",
      "source": [
        "# **Chapter 8: Functions and modules**\n",
        "\n",
        "Syntax:\n",
        "\n",
        "def functionName(parameters):\n",
        "\n",
        "   \n",
        "\n",
        "> [code block for desired tasks]\n",
        "\n",
        "\n",
        "\n",
        "> return [values]\n",
        "\n",
        "\n",
        "\n",
        "   "
      ],
      "metadata": {
        "id": "mhaZKHrYv8UF"
      }
    },
    {
      "cell_type": "code",
      "source": [
        "# 8.1.1\n",
        "def sphere_area(r):\n",
        "    pi = 3.1415927\n",
        "    return 4*pi*r**2\n",
        "sphere_area(5)"
      ],
      "metadata": {
        "id": "xRX7NWze7O5k"
      },
      "execution_count": null,
      "outputs": []
    },
    {
      "cell_type": "code",
      "source": [
        "# 8.1.2\n",
        "def sphere_area(r, radius=True):\n",
        "    pi = 3.1415927\n",
        "    if not radius:\n",
        "        r /= 2.0  # Divide input value diameter by 2 to get radius\n",
        "    return 4*pi*r**2\n",
        "sphere_area(5, radius=True) # What if radius=False"
      ],
      "metadata": {
        "id": "aSEfvTfQwATN"
      },
      "execution_count": null,
      "outputs": []
    },
    {
      "cell_type": "markdown",
      "source": [
        "Global and local variables\n",
        "\n",
        "•Global variables are the variables that can be accessed from anywhere in your code. That said, they are available to functions as well.\n",
        "\n",
        "•If we define a variable within a function, that variable is only known to the function. Thus, it’s called a local variable."
      ],
      "metadata": {
        "id": "plKlw8HJBcft"
      }
    },
    {
      "cell_type": "code",
      "source": [
        "def my_funtion(z):\n",
        "  return (a+z)\n",
        "\n",
        "a = 10 # Global variable\n",
        "my_funtion(2) # z is a local variable\n",
        "print(a) # what if a is changed to z?"
      ],
      "metadata": {
        "colab": {
          "base_uri": "https://localhost:8080/"
        },
        "id": "l8eWw2ppBi0r",
        "outputId": "cc84d51b-ae88-4397-98cf-42d3679c7a59"
      },
      "execution_count": null,
      "outputs": [
        {
          "output_type": "stream",
          "name": "stdout",
          "text": [
            "10\n"
          ]
        }
      ]
    },
    {
      "cell_type": "markdown",
      "source": [
        "Creating modules:\n",
        "\n",
        "A module is simply a collection of Python statements (functions and/or constants) stored in a single file.\n",
        "\n",
        "The name of a module is taken from the name of the file in which it's stored.\n",
        "\n",
        "To use a module, it must be first imported like numpy. Syntax: import module_name"
      ],
      "metadata": {
        "id": "tZ5kLQy295_D"
      }
    },
    {
      "cell_type": "code",
      "source": [
        "# Create a new module named Sphere and store the file as Sphere.py\n",
        "pi = 3.1415927\n",
        "def area(r):\n",
        "    return 4*pi*r**2\n",
        "\n",
        "def volume(r):\n",
        "    return (4.0/3.0)*pi*r**3\n",
        "\n",
        "# To use the module, type 'import Sphere'"
      ],
      "metadata": {
        "id": "tdOgIvv398lt"
      },
      "execution_count": null,
      "outputs": []
    },
    {
      "cell_type": "markdown",
      "source": [
        "# **Chapter 10: 1-D plotting**\n",
        "\n",
        "Goal: create basic one-dimensional (1-D) plots using the Matplotlib plotting library\n",
        "\n",
        "There are dozens of submodules within the library, and the primary submodule to be used is pyplot. The latter can be imported for use with the statement:\n",
        "  import matplotlib.pyplot as plt"
      ],
      "metadata": {
        "id": "w_q8eMK_2l5T"
      }
    },
    {
      "cell_type": "code",
      "source": [
        "import numpy as np\n",
        "import matplotlib.pyplot as plt\n",
        "x = np.array([1, 2, 3, 4, 5]) # Generate x-axis values\n",
        "y = np.array([1, 2, 3, 4, 5]) # Generate y-axis values\n",
        "\n",
        "plt.plot(x,y)   # Plot data onto axes\n",
        "plt.show()  # Display plot to screen"
      ],
      "metadata": {
        "colab": {
          "base_uri": "https://localhost:8080/",
          "height": 430
        },
        "id": "TpA79IGF3Mim",
        "outputId": "5e20a91a-fee0-4f91-858f-06ee2766ac03"
      },
      "execution_count": 11,
      "outputs": [
        {
          "output_type": "display_data",
          "data": {
            "text/plain": [
              "<Figure size 640x480 with 1 Axes>"
            ],
            "image/png": "[encoded data removed]"
          },
          "metadata": {}
        }
      ]
    },
    {
      "cell_type": "code",
      "source": [
        "# Change figure appearance by specifying marker, color, and grid lines\n",
        "import numpy as np\n",
        "import matplotlib.pyplot as plt\n",
        "x = np.array([1, 2, 3, 4, 5]) # Generate x-axis values\n",
        "y = np.array([1, 2, 3, 4, 5]) # Generate y-axis values\n",
        "\n",
        "plt.plot(x, y, marker='.', markersize=5, color='red')   # Can you try using different markers and colors?\n",
        "plt.grid() # Can you try commenting out this line?\n",
        "plt.show()  # Display plot to screen"
      ],
      "metadata": {
        "colab": {
          "base_uri": "https://localhost:8080/",
          "height": 430
        },
        "id": "Q-GEMaRO3uQr",
        "outputId": "77bc9bd8-5435-42ad-a94c-94cfd835eb40"
      },
      "execution_count": 20,
      "outputs": [
        {
          "output_type": "display_data",
          "data": {
            "text/plain": [
              "<Figure size 640x480 with 1 Axes>"
            ],
            "image/png": "[encoded data removed]"
          },
          "metadata": {}
        }
      ]
    },
    {
      "cell_type": "code",
      "source": [
        "# 10.2\n",
        "import numpy as np\n",
        "import matplotlib.pyplot as plt\n",
        "x = np.arange(0,100.5,0.5) # Generate x-axis values\n",
        "y = 2.0*np.sqrt(x)  # Calculate y-values\n",
        "plt.plot(x,y)   # Plot data onto axes\n",
        "plt.show()  # Display plot to screen"
      ],
      "metadata": {
        "colab": {
          "base_uri": "https://localhost:8080/",
          "height": 430
        },
        "id": "HFVID-7x2-m-",
        "outputId": "497e671d-5174-468c-9ce2-535d85c4546c"
      },
      "execution_count": 4,
      "outputs": [
        {
          "output_type": "display_data",
          "data": {
            "text/plain": [
              "<Figure size 640x480 with 1 Axes>"
            ],
            "image/png": "[encoded data removed]"
          },
          "metadata": {}
        }
      ]
    },
    {
      "cell_type": "markdown",
      "source": [
        "What if we want more control over the plotting? We need to better understand how matplotlib sets up the figure and axes."
      ],
      "metadata": {
        "id": "UFr43w6Kub_c"
      }
    },
    {
      "cell_type": "code",
      "source": [
        "# 10.3.3\n",
        "import numpy as np\n",
        "import matplotlib.pyplot as plt\n",
        "x = np.arange(0,100.5,0.5) # Generate x-axis values\n",
        "y = 2.0*np.sqrt(x)  # Calculate y-values\n",
        "\n",
        "fig = plt.figure()  # Create a figure object\n",
        "ax = fig.add_axes([0.1, 0.1, 0.8, 0.8]) # Create an axes object by using add_axes([x,y,w,h])\n",
        "ax.plot(x,y,marker='.', markersize=5, color='red')   # Plot data onto axes\n",
        "\n",
        "plt.title('Plot of y=2*sqrt(x)')\n",
        "plt.legend(['Temperature'])\n",
        "ax.set_xlabel('x values')\n",
        "ax.set_ylabel('y values')\n",
        "plt.show()  # Display plot to screen\n"
      ],
      "metadata": {
        "colab": {
          "base_uri": "https://localhost:8080/",
          "height": 486
        },
        "id": "aMOGq6_qtni7",
        "outputId": "0f339704-d05a-4a40-d11e-af902f8a5e43"
      },
      "execution_count": 23,
      "outputs": [
        {
          "output_type": "display_data",
          "data": {
            "text/plain": [
              "<Figure size 640x480 with 1 Axes>"
            ],
            "image/png": "[encoded data removed]"
          },
          "metadata": {}
        }
      ]
    },
    {
      "cell_type": "code",
      "source": [
        "# 10.a: Scatter plot with linear regression\n",
        "import matplotlib.pyplot as plt\n",
        "from scipy import stats\n",
        "\n",
        "x = [5,7,8,7,2,17,2,9,4,11,12,9,6]\n",
        "y = [99,86,87,88,111,86,103,87,94,78,77,85,86]\n",
        "\n",
        "slope, intercept, r, p, std_err = stats.linregress(x, y) # fit a linear regression\n",
        "\n",
        "def myfunc(x):\n",
        "  return slope * x + intercept\n",
        "\n",
        "model_value = list(map(myfunc, x)) # map(function, iterable) allows you to process and transform all the items in an iterable without using an explicit for loop\n",
        "\n",
        "plt.scatter(x, y)\n",
        "plt.plot(x, model_value)\n",
        "plt.show()"
      ],
      "metadata": {
        "colab": {
          "base_uri": "https://localhost:8080/",
          "height": 430
        },
        "id": "9SlJZw3bPiN-",
        "outputId": "3d5ebe0f-b397-41ed-9339-4f8b66409859"
      },
      "execution_count": 12,
      "outputs": [
        {
          "output_type": "display_data",
          "data": {
            "text/plain": [
              "<Figure size 640x480 with 1 Axes>"
            ],
            "image/png": "[encoded data removed]"
          },
          "metadata": {}
        }
      ]
    },
    {
      "cell_type": "code",
      "source": [
        "# 10.b: Exercise: statistical analysis\n",
        "\n",
        "# linear regression\n",
        "from scipy import stats\n",
        "\n",
        "slope, intercept, r, p, std_err = stats.linregress(x, y)\n",
        "print(slope, p)\n",
        "\n",
        "def myfunc(x):\n",
        "  return slope * x + intercept\n",
        "\n",
        "model_y = list(map(myfunc, x))\n",
        "plt.plot(x, model_y)\n",
        "\n",
        "# Perform the t-test:\n",
        "t_stat, p_value = stats.ttest_ind(y, y2)\n",
        "print(t_stat, p_value)\n",
        "alpha = 0.05\n",
        "if p_value < alpha:\n",
        "    print(\"Reject the null hypothesis; there is a significant difference between the two experiments.\")\n",
        "else:\n",
        "    print(\"Fail to reject the null hypothesis; there is NO significant difference between the two experiments.\")\n",
        "\n",
        "# calculate the 95% confidence intervals\n",
        "ci1 = stats.norm.interval(confidence=0.95, loc=np.mean(y), scale=stats.sem(y)) #loc: location; sem:standard error of the mean.\n",
        "print(ci1)\n",
        "ci2 = stats.norm.interval(confidence=0.95, loc=np.mean(y2), scale=stats.sem(y2))\n",
        "print(ci2)"
      ],
      "metadata": {
        "id": "_RyN9cxU9HBQ"
      },
      "execution_count": null,
      "outputs": []
    },
    {
      "cell_type": "code",
      "source": [
        "# 10.17.5\n",
        "import numpy as np\n",
        "import matplotlib.pyplot as plt\n",
        "\n",
        "# first population\n",
        "mu, sigma = 8, 1.5\n",
        "x = sigma*np.random.normal(mu, sigma, 1000)\n",
        "# histogram with 50 bins\n",
        "n, bins, patches = plt.hist(x, 30, density=True,\n",
        "                            color=(0.9, 0.9,0),\n",
        "                            edgecolor ='0.2')\n",
        "\n",
        "# second population\n",
        "mu, sigma = 6, 1.2\n",
        "x = sigma*np.random.normal(mu, sigma, 1000)\n",
        "\n",
        "# second histogram, partially transparent\n",
        "n, bins, patches = plt.hist(x, 20, density=True,\n",
        "                            color='r',\n",
        "                            edgecolor='0.2',\n",
        "                            alpha=0.5)\n",
        "\n",
        "plt.xlabel('$X$')\n",
        "plt.ylabel('Probability')\n",
        "plt.title('Two histograms')\n",
        "plt.grid(True, linestyle='dotted')\n",
        "plt.show()"
      ],
      "metadata": {
        "colab": {
          "base_uri": "https://localhost:8080/",
          "height": 472
        },
        "id": "VWoqagl0BXy_",
        "outputId": "73db0593-0e16-490e-8b9c-3e0a795ff85c"
      },
      "execution_count": 3,
      "outputs": [
        {
          "output_type": "display_data",
          "data": {
            "text/plain": [
              "<Figure size 640x480 with 1 Axes>"
            ],
            "image/png": "[encoded data removed]"
          },
          "metadata": {}
        }
      ]
    },
    {
      "cell_type": "code",
      "source": [
        "# 10.c: plot PMF for a randomly generated list x\n",
        "import random\n",
        "import scipy\n",
        "x = [random.random() for r in range(1000)] # The random() method returns a random floating number between 0 and 1.\n",
        "num_bins = 50\n",
        "counts, bins = np.histogram(x, bins=num_bins)\n",
        "bins = bins[:-1] + (bins[1] - bins[0])/2\n",
        "probs = counts/float(counts.sum())\n",
        "print(probs)\n",
        "plt.bar(bins, probs, 1.0/num_bins)\n",
        "plt.xlabel('x values')\n",
        "plt.ylabel('Probability')\n",
        "plt.title('PDF of x')\n",
        "plt.show()\n",
        "\n",
        "# plot CDF for x\n",
        "plt.figure()\n",
        "probs_cum = np.cumsum(counts)/float(counts.sum())\n",
        "plt.bar(bins, probs_cum, 1.0/num_bins)\n",
        "print(probs_cum)\n",
        "plt.xlabel('x values')\n",
        "plt.ylabel('Probability')\n",
        "plt.title('CDF of x')\n",
        "plt.show()"
      ],
      "metadata": {
        "colab": {
          "base_uri": "https://localhost:8080/",
          "height": 1000
        },
        "id": "5h9kUYVUbcRT",
        "outputId": "48e3e426-d0f3-4bce-a47c-b6e8b41b2cfd"
      },
      "execution_count": 21,
      "outputs": [
        {
          "output_type": "stream",
          "name": "stdout",
          "text": [
            "[0.022 0.021 0.014 0.021 0.026 0.02  0.021 0.021 0.021 0.023 0.015 0.015\n",
            " 0.016 0.022 0.025 0.02  0.013 0.018 0.025 0.022 0.02  0.013 0.016 0.022\n",
            " 0.025 0.024 0.024 0.021 0.016 0.027 0.024 0.026 0.024 0.019 0.011 0.019\n",
            " 0.021 0.02  0.017 0.029 0.019 0.029 0.015 0.021 0.015 0.017 0.019 0.012\n",
            " 0.017 0.017]\n"
          ]
        },
        {
          "output_type": "display_data",
          "data": {
            "text/plain": [
              "<Figure size 640x480 with 1 Axes>"
            ],
            "image/png": "[encoded data removed]"
          },
          "metadata": {}
        },
        {
          "output_type": "stream",
          "name": "stdout",
          "text": [
            "[0.022 0.043 0.057 0.078 0.104 0.124 0.145 0.166 0.187 0.21  0.225 0.24\n",
            " 0.256 0.278 0.303 0.323 0.336 0.354 0.379 0.401 0.421 0.434 0.45  0.472\n",
            " 0.497 0.521 0.545 0.566 0.582 0.609 0.633 0.659 0.683 0.702 0.713 0.732\n",
            " 0.753 0.773 0.79  0.819 0.838 0.867 0.882 0.903 0.918 0.935 0.954 0.966\n",
            " 0.983 1.   ]\n"
          ]
        },
        {
          "output_type": "display_data",
          "data": {
            "text/plain": [
              "<Figure size 640x480 with 1 Axes>"
            ],
            "image/png": "[encoded data removed]"
          },
          "metadata": {}
        }
      ]
    }
  ]
}